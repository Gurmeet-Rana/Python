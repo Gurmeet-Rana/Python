{
 "cells": [
  {
   "cell_type": "code",
   "execution_count": 1,
   "id": "0090d6c3",
   "metadata": {},
   "outputs": [],
   "source": [
    "str=input(\"Enter the string : \")"
   ]
  },
  {
   "cell_type": "code",
   "execution_count": 2,
   "id": "be1a3cb6",
   "metadata": {},
   "outputs": [
    {
     "name": "stdout",
     "output_type": "stream",
     "text": [
      "THIS IS THE STRING\n"
     ]
    }
   ],
   "source": [
    "print(str)"
   ]
  },
  {
   "cell_type": "code",
   "execution_count": 3,
   "id": "806fb33c",
   "metadata": {},
   "outputs": [
    {
     "name": "stdout",
     "output_type": "stream",
     "text": [
      "THIS IS THE STRING\n"
     ]
    }
   ],
   "source": [
    "print(str.upper())"
   ]
  },
  {
   "cell_type": "code",
   "execution_count": 4,
   "id": "b078bda0",
   "metadata": {},
   "outputs": [
    {
     "name": "stdout",
     "output_type": "stream",
     "text": [
      "THIS IS THE STRING\n"
     ]
    }
   ],
   "source": [
    "print(str.upper())"
   ]
  },
  {
   "cell_type": "code",
   "execution_count": 5,
   "id": "ff9cde77",
   "metadata": {},
   "outputs": [
    {
     "name": "stdout",
     "output_type": "stream",
     "text": [
      "this is the string\n"
     ]
    }
   ],
   "source": [
    "print(str.lower())"
   ]
  },
  {
   "cell_type": "code",
   "execution_count": 6,
   "id": "f9794359",
   "metadata": {},
   "outputs": [
    {
     "name": "stdout",
     "output_type": "stream",
     "text": [
      "This Is The String\n"
     ]
    }
   ],
   "source": [
    "print(str.title())"
   ]
  },
  {
   "cell_type": "code",
   "execution_count": 10,
   "id": "fd76ea53",
   "metadata": {},
   "outputs": [
    {
     "name": "stdout",
     "output_type": "stream",
     "text": [
      "Gurmeet Rana\n",
      "Hello , Gurmeet Rana!\n"
     ]
    }
   ],
   "source": [
    "first_name=\"Gurmeet\" \n",
    "last_name=\"Rana\"\n",
    "full_name=f\"{first_name} {last_name}\" # f-strings \n",
    "print(full_name)\n",
    "print(f\"Hello , {full_name.title()}!\")"
   ]
  },
  {
   "cell_type": "code",
   "execution_count": 16,
   "id": "b7ae9937",
   "metadata": {},
   "outputs": [
    {
     "data": {
      "text/plain": [
       "'python'"
      ]
     },
     "execution_count": 16,
     "metadata": {},
     "output_type": "execute_result"
    }
   ],
   "source": [
    "# \\t \\n \n",
    "fav_language=\"  python  \"\n",
    "fav_language.rstrip()\n",
    "fav_language.lstrip()\n",
    "fav_language.strip()\n",
    "\n"
   ]
  },
  {
   "cell_type": "code",
   "execution_count": 17,
   "id": "2a4bd87a",
   "metadata": {},
   "outputs": [
    {
     "ename": "SyntaxError",
     "evalue": "unterminated string literal (detected at line 2) (1786846390.py, line 2)",
     "output_type": "error",
     "traceback": [
      "\u001b[1;36m  Cell \u001b[1;32mIn[17], line 2\u001b[1;36m\u001b[0m\n\u001b[1;33m    message='I'm Gurmeet Rana'\u001b[0m\n\u001b[1;37m                             ^\u001b[0m\n\u001b[1;31mSyntaxError\u001b[0m\u001b[1;31m:\u001b[0m unterminated string literal (detected at line 2)\n"
     ]
    }
   ],
   "source": [
    "# You can't use apostrophe with the single quote , because python misinterpretes apostrophe\n",
    "message='I'm Gurmeet Rana'\n"
   ]
  },
  {
   "cell_type": "code",
   "execution_count": 18,
   "id": "50b753a4",
   "metadata": {},
   "outputs": [],
   "source": [
    "#Personal message \n",
    "name=input(\"Enter your name \")\n"
   ]
  },
  {
   "cell_type": "code",
   "execution_count": 19,
   "id": "d90d05cd",
   "metadata": {},
   "outputs": [
    {
     "name": "stdout",
     "output_type": "stream",
     "text": [
      "Hello , Andhsika, would you like to learn some Python today! \n"
     ]
    }
   ],
   "source": [
    "print(f\"Hello , {name}, would you like to learn some Python today! \")"
   ]
  },
  {
   "cell_type": "code",
   "execution_count": 21,
   "id": "a1ca3509",
   "metadata": {},
   "outputs": [
    {
     "name": "stdout",
     "output_type": "stream",
     "text": [
      "Andhsika\n",
      "andhsika\n",
      "ANDHSIKA\n",
      "Andhsika\n",
      "Andhsika\n"
     ]
    }
   ],
   "source": [
    "print(name)\n",
    "print(name.lower())\n",
    "print(name.upper())\n",
    "print(name.strip())\n",
    "print(name.title())"
   ]
  },
  {
   "cell_type": "code",
   "execution_count": 22,
   "id": "8c301fdb",
   "metadata": {},
   "outputs": [
    {
     "name": "stdout",
     "output_type": "stream",
     "text": [
      "Andhsika once said , A person who never made a mistake never tried anything new \n"
     ]
    }
   ],
   "source": [
    "print(f\"{name} once said , {\"A person who never made a mistake never tried anything new \"}\")"
   ]
  },
  {
   "cell_type": "code",
   "execution_count": null,
   "id": "44480e2e",
   "metadata": {},
   "outputs": [],
   "source": []
  }
 ],
 "metadata": {
  "kernelspec": {
   "display_name": "Python 3",
   "language": "python",
   "name": "python3"
  },
  "language_info": {
   "codemirror_mode": {
    "name": "ipython",
    "version": 3
   },
   "file_extension": ".py",
   "mimetype": "text/x-python",
   "name": "python",
   "nbconvert_exporter": "python",
   "pygments_lexer": "ipython3",
   "version": "3.12.4"
  }
 },
 "nbformat": 4,
 "nbformat_minor": 5
}
