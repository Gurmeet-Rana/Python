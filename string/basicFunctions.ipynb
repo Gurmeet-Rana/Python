{
 "cells": [
  {
   "cell_type": "code",
   "execution_count": 1,
   "id": "0090d6c3",
   "metadata": {},
   "outputs": [],
   "source": [
    "str=input(\"Enter the string : \")"
   ]
  },
  {
   "cell_type": "code",
   "execution_count": 2,
   "id": "be1a3cb6",
   "metadata": {},
   "outputs": [
    {
     "name": "stdout",
     "output_type": "stream",
     "text": [
      "THIS IS THE STRING\n"
     ]
    }
   ],
   "source": [
    "print(str)"
   ]
  },
  {
   "cell_type": "code",
   "execution_count": 3,
   "id": "806fb33c",
   "metadata": {},
   "outputs": [
    {
     "name": "stdout",
     "output_type": "stream",
     "text": [
      "THIS IS THE STRING\n"
     ]
    }
   ],
   "source": [
    "print(str.upper())"
   ]
  },
  {
   "cell_type": "code",
   "execution_count": 4,
   "id": "b078bda0",
   "metadata": {},
   "outputs": [
    {
     "name": "stdout",
     "output_type": "stream",
     "text": [
      "THIS IS THE STRING\n"
     ]
    }
   ],
   "source": [
    "print(str.upper())"
   ]
  },
  {
   "cell_type": "code",
   "execution_count": 5,
   "id": "ff9cde77",
   "metadata": {},
   "outputs": [
    {
     "name": "stdout",
     "output_type": "stream",
     "text": [
      "this is the string\n"
     ]
    }
   ],
   "source": [
    "print(str.lower())"
   ]
  },
  {
   "cell_type": "code",
   "execution_count": 6,
   "id": "f9794359",
   "metadata": {},
   "outputs": [
    {
     "name": "stdout",
     "output_type": "stream",
     "text": [
      "This Is The String\n"
     ]
    }
   ],
   "source": [
    "print(str.title())"
   ]
  },
  {
   "cell_type": "code",
   "execution_count": 8,
   "id": "fd76ea53",
   "metadata": {},
   "outputs": [
    {
     "name": "stdout",
     "output_type": "stream",
     "text": [
      "Gurmeet Rana\n"
     ]
    }
   ],
   "source": [
    "first_name=\"Gurmeet\"\n",
    "last_name=\"Rana\"\n",
    "full_name=f\"{first_name} {last_name}\"\n",
    "print(full_name)"
   ]
  },
  {
   "cell_type": "code",
   "execution_count": null,
   "id": "b7ae9937",
   "metadata": {},
   "outputs": [],
   "source": []
  }
 ],
 "metadata": {
  "kernelspec": {
   "display_name": "Python 3",
   "language": "python",
   "name": "python3"
  },
  "language_info": {
   "codemirror_mode": {
    "name": "ipython",
    "version": 3
   },
   "file_extension": ".py",
   "mimetype": "text/x-python",
   "name": "python",
   "nbconvert_exporter": "python",
   "pygments_lexer": "ipython3",
   "version": "3.12.4"
  }
 },
 "nbformat": 4,
 "nbformat_minor": 5
}
