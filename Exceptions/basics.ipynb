{
 "cells": [
  {
   "cell_type": "code",
   "execution_count": null,
   "id": "0519b2db",
   "metadata": {},
   "outputs": [],
   "source": [
    "# try except\n"
   ]
  },
  {
   "cell_type": "code",
   "execution_count": null,
   "id": "b209ff85",
   "metadata": {},
   "outputs": [
    {
     "name": "stdout",
     "output_type": "stream",
     "text": [
      "Babu ! Tum mere sath chahe kuch bhi krlo , pr zero se divide !! - Oyi Ammaa...\n",
      "Rest of the Code\n"
     ]
    }
   ],
   "source": [
    "names=['Gurmeet Rana','Jarnail Singh']\n",
    "# Exception , IndexError , ZeroDivisionError\n",
    "try : \n",
    "    10/0\n",
    "    print(names[3])\n",
    "except ZeroDivisionError:\n",
    "    print(\"Babu ! Tum mere sath chahe kuch bhi krlo , pr zero se divide !! - Oyi Ammaa...,{e}\")\n",
    "except IndexError:\n",
    "    print(\"Babu !! Tum mere sath chahe kuch bhi krlo , pr illegal memory access - oyi maa---\")\n",
    "except Exception:  \n",
    "    print(\"Exception\")    \n",
    "print(\"Rest of the Code\")"
   ]
  },
  {
   "cell_type": "code",
   "execution_count": 3,
   "id": "bd07ff0f",
   "metadata": {},
   "outputs": [
    {
     "name": "stdout",
     "output_type": "stream",
     "text": [
      "<built-in method with_traceback of FileNotFoundError object at 0x0000023384C4B520>\n",
      "Ye to print hoga hi !\n"
     ]
    }
   ],
   "source": [
    "try : \n",
    "    f=open('sample.txt','r')\n",
    "     \n",
    "except Exception as e:\n",
    "    print(e.with_traceback)\n",
    "else : \n",
    "    # after success of try \n",
    "    print(f.read)\n",
    "finally:\n",
    "    print('Ye to print hoga hi !')\n",
    "#finally - will run finally after try except and else in any case  "
   ]
  },
  {
   "cell_type": "code",
   "execution_count": null,
   "id": "a99476c8",
   "metadata": {},
   "outputs": [
    {
     "ename": "ZeroDivisionError",
     "evalue": "Aise hi try kr rha hoon",
     "output_type": "error",
     "traceback": [
      "\u001b[1;31m---------------------------------------------------------------------------\u001b[0m",
      "\u001b[1;31mZeroDivisionError\u001b[0m                         Traceback (most recent call last)",
      "Cell \u001b[1;32mIn[5], line 5\u001b[0m\n\u001b[0;32m      1\u001b[0m \u001b[38;5;66;03m#raiseException -  we can manuallly raise error \u001b[39;00m\n\u001b[0;32m      2\u001b[0m \n\u001b[0;32m      3\u001b[0m \u001b[38;5;66;03m#Creating custom exception \u001b[39;00m\n\u001b[1;32m----> 5\u001b[0m \u001b[38;5;28;01mraise\u001b[39;00m \u001b[38;5;167;01mZeroDivisionError\u001b[39;00m(\u001b[38;5;124m\"\u001b[39m\u001b[38;5;124mAise hi try kr rha hoon\u001b[39m\u001b[38;5;124m\"\u001b[39m)\n",
      "\u001b[1;31mZeroDivisionError\u001b[0m: Aise hi try kr rha hoon"
     ]
    }
   ],
   "source": [
    "#raiseException -  we can manuallly raise error \n",
    "\n",
    "\n",
    "raise ZeroDivisionError(\"Aise hi try kr rha hoon\")"
   ]
  },
  {
   "cell_type": "code",
   "execution_count": 7,
   "id": "758c50fa",
   "metadata": {},
   "outputs": [
    {
     "name": "stdout",
     "output_type": "stream",
     "text": [
      "Yuhi\n"
     ]
    },
    {
     "ename": "myException",
     "evalue": "Yuhi",
     "output_type": "error",
     "traceback": [
      "\u001b[1;31m---------------------------------------------------------------------------\u001b[0m",
      "\u001b[1;31mmyException\u001b[0m                               Traceback (most recent call last)",
      "Cell \u001b[1;32mIn[7], line 6\u001b[0m\n\u001b[0;32m      4\u001b[0m     \u001b[38;5;28;01mdef\u001b[39;00m \u001b[38;5;21m__init__\u001b[39m(\u001b[38;5;28mself\u001b[39m,message):\n\u001b[0;32m      5\u001b[0m         \u001b[38;5;28mprint\u001b[39m(message)\n\u001b[1;32m----> 6\u001b[0m \u001b[38;5;28;01mraise\u001b[39;00m myException(\u001b[38;5;124m\"\u001b[39m\u001b[38;5;124mYuhi\u001b[39m\u001b[38;5;124m\"\u001b[39m)        \n",
      "\u001b[1;31mmyException\u001b[0m: Yuhi"
     ]
    }
   ],
   "source": [
    "\n",
    "#Creating custom exception \n",
    "\n",
    "class myException(Exception):\n",
    "    def __init__(self,message):\n",
    "        print(message)\n",
    "raise myException(\"Yuhi\")        \n"
   ]
  },
  {
   "cell_type": "code",
   "execution_count": null,
   "id": "b8ac8744",
   "metadata": {},
   "outputs": [],
   "source": []
  }
 ],
 "metadata": {
  "kernelspec": {
   "display_name": "Python 3",
   "language": "python",
   "name": "python3"
  },
  "language_info": {
   "codemirror_mode": {
    "name": "ipython",
    "version": 3
   },
   "file_extension": ".py",
   "mimetype": "text/x-python",
   "name": "python",
   "nbconvert_exporter": "python",
   "pygments_lexer": "ipython3",
   "version": "3.12.4"
  }
 },
 "nbformat": 4,
 "nbformat_minor": 5
}
