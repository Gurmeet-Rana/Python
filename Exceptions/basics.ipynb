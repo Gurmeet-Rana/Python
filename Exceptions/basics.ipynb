{
 "cells": [
  {
   "cell_type": "code",
   "execution_count": null,
   "id": "0519b2db",
   "metadata": {},
   "outputs": [],
   "source": [
    "# try except\n"
   ]
  },
  {
   "cell_type": "code",
   "execution_count": 5,
   "id": "b209ff85",
   "metadata": {},
   "outputs": [
    {
     "name": "stdout",
     "output_type": "stream",
     "text": [
      "Babu ! Tum mere sath chahe kuch bhi krlo , pr zero se divide !! - Oyi Ammaa...\n",
      "Rest of the Code\n"
     ]
    }
   ],
   "source": [
    "names=['Gurmeet Rana','Jarnail Singh']\n",
    "# Exception , IndexError , ZeroDivisionError\n",
    "try : \n",
    "    10/0\n",
    "    print(names[3])\n",
    "except ZeroDivisionError:\n",
    "    print(\"Babu ! Tum mere sath chahe kuch bhi krlo , pr zero se divide !! - Oyi Ammaa...\")\n",
    "except IndexError:\n",
    "    print(\"Babu !! Tum mere sath chahe kuch bhi krlo , pr illegal memory access - oyi maa---\")\n",
    "except Exception:  \n",
    "    print(\"Exception\")    \n",
    "print(\"Rest of the Code\")"
   ]
  },
  {
   "cell_type": "code",
   "execution_count": null,
   "id": "bd07ff0f",
   "metadata": {},
   "outputs": [],
   "source": []
  }
 ],
 "metadata": {
  "kernelspec": {
   "display_name": "Python 3",
   "language": "python",
   "name": "python3"
  },
  "language_info": {
   "codemirror_mode": {
    "name": "ipython",
    "version": 3
   },
   "file_extension": ".py",
   "mimetype": "text/x-python",
   "name": "python",
   "nbconvert_exporter": "python",
   "pygments_lexer": "ipython3",
   "version": "3.12.4"
  }
 },
 "nbformat": 4,
 "nbformat_minor": 5
}
