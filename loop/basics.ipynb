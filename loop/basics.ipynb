{
 "cells": [
  {
   "cell_type": "code",
   "execution_count": null,
   "id": "41d75367",
   "metadata": {},
   "outputs": [
    {
     "name": "stdout",
     "output_type": "stream",
     "text": [
      "110 out of 20\n"
     ]
    }
   ],
   "source": [
    "i=110\n",
    "while i<20:\n",
    "    print(i)\n",
    "    i+=1\n",
    "else : print(i,\"out of 20\")    "
   ]
  },
  {
   "cell_type": "code",
   "execution_count": 9,
   "id": "9a40f524",
   "metadata": {},
   "outputs": [
    {
     "name": "stdout",
     "output_type": "stream",
     "text": [
      "Guess Higher \n",
      "Guess Higher \n",
      "Guess Higher \n",
      "Guess Higher \n",
      "Guess Lower\n",
      "Guess Higher \n",
      "Guess Higher \n",
      "Guess Lower\n",
      "Guess Higher \n",
      "Guess Higher \n",
      "Guess Higher \n",
      "Guess Lower\n",
      "Congrats ! You got it right in  12  steps\n"
     ]
    }
   ],
   "source": [
    "import random \n",
    "jackpot=random.randint(1,101)\n",
    "number=int(input(\"Guess the number : \"))\n",
    "steps=0\n",
    "while number!=jackpot:\n",
    "    if number<jackpot:\n",
    "        print(\"Guess Higher \")\n",
    "    else : \n",
    "        print(\"Guess Lower\")\n",
    "    steps+=1\n",
    "    number=int(input(\"Guess the number : \"))\n",
    "else : \n",
    "    print(\"Congrats ! You got it right in \",steps,\" steps\")"
   ]
  },
  {
   "cell_type": "code",
   "execution_count": 13,
   "id": "0ede1aa2",
   "metadata": {},
   "outputs": [
    {
     "name": "stdout",
     "output_type": "stream",
     "text": [
      "\n",
      "*\n",
      "**\n",
      "***\n",
      "****\n",
      "*****\n"
     ]
    }
   ],
   "source": [
    "n=int(input('Enter the number'))\n",
    "for i in range(n):\n",
    "    for j in range(i):\n",
    "        print('*',end='')\n",
    "    print()\n"
   ]
  },
  {
   "cell_type": "code",
   "execution_count": 1,
   "id": "7aa3395b",
   "metadata": {},
   "outputs": [
    {
     "name": "stdout",
     "output_type": "stream",
     "text": [
      "2.6666666666666665\n"
     ]
    }
   ],
   "source": [
    "#1/1! + 2/2!\n",
    "import math\n",
    "sum=0\n",
    "n=int(input(\"Enter a number \"))\n",
    "for i in range(n):\n",
    "    sum=sum+i/math.factorial(i) \n",
    "print(sum)"
   ]
  },
  {
   "cell_type": "code",
   "execution_count": 13,
   "id": "483b0788",
   "metadata": {},
   "outputs": [
    {
     "name": "stdout",
     "output_type": "stream",
     "text": [
      "1 \n",
      "1 2 1 \n",
      "1 2 3 2 1 \n",
      "1 2 3 4 3 2 1 \n",
      "1 2 3 4 5 4 3 2 1 \n"
     ]
    }
   ],
   "source": [
    "n=int(input('Enter the number of rows'))\n",
    "for i in range(n):\n",
    "    for j in range(1,i+1):\n",
    "        print(j,end=' ')\n",
    "    for k in range(i+1,0,-1):\n",
    "        print(k,end=\" \")    \n",
    "    print()    "
   ]
  },
  {
   "cell_type": "code",
   "execution_count": null,
   "id": "9957349a",
   "metadata": {},
   "outputs": [],
   "source": []
  }
 ],
 "metadata": {
  "kernelspec": {
   "display_name": "Python 3",
   "language": "python",
   "name": "python3"
  },
  "language_info": {
   "codemirror_mode": {
    "name": "ipython",
    "version": 3
   },
   "file_extension": ".py",
   "mimetype": "text/x-python",
   "name": "python",
   "nbconvert_exporter": "python",
   "pygments_lexer": "ipython3",
   "version": "3.12.4"
  }
 },
 "nbformat": 4,
 "nbformat_minor": 5
}
