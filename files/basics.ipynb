{
 "cells": [
  {
   "cell_type": "code",
   "execution_count": 1,
   "id": "bfd31b9b",
   "metadata": {},
   "outputs": [],
   "source": [
    "#File"
   ]
  },
  {
   "cell_type": "code",
   "execution_count": 8,
   "id": "ef2f7da7",
   "metadata": {},
   "outputs": [],
   "source": [
    "#WRITING TO A FILE\n",
    "\n",
    "# case 1 : IF FILE IS NOT CREATED ALREADY\n",
    "f=open('sample.txt','a') # Brings a file from HD to RAM \n",
    "f.write('Hello World!')\n",
    "\n",
    "#\n",
    "L=['Hello ',' My name is Gr', ' I AM AN AI ENGINEER AT GOOGLE']\n",
    "f.writelines(L)\n",
    "f.close()"
   ]
  },
  {
   "cell_type": "code",
   "execution_count": 14,
   "id": "69792981",
   "metadata": {},
   "outputs": [
    {
     "name": "stdout",
     "output_type": "stream",
     "text": [
      "Hello Worl\n"
     ]
    }
   ],
   "source": [
    "# Read \n",
    "f=open('sample.txt','r')\n",
    "res=f.readlines()\n",
    "type(res)\n",
    "f.close()\n",
    "\n",
    "# Read n chars\n",
    "f=open('sample.txt','r')\n",
    "res=f.read(10)\n",
    "print(res)"
   ]
  },
  {
   "cell_type": "code",
   "execution_count": null,
   "id": "ec16a568",
   "metadata": {},
   "outputs": [],
   "source": []
  }
 ],
 "metadata": {
  "kernelspec": {
   "display_name": "Python 3",
   "language": "python",
   "name": "python3"
  },
  "language_info": {
   "codemirror_mode": {
    "name": "ipython",
    "version": 3
   },
   "file_extension": ".py",
   "mimetype": "text/x-python",
   "name": "python",
   "nbconvert_exporter": "python",
   "pygments_lexer": "ipython3",
   "version": "3.12.4"
  }
 },
 "nbformat": 4,
 "nbformat_minor": 5
}
