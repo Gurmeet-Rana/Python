{
 "cells": [
  {
   "cell_type": "code",
   "execution_count": 1,
   "id": "bfd31b9b",
   "metadata": {},
   "outputs": [],
   "source": [
    "#File"
   ]
  },
  {
   "cell_type": "code",
   "execution_count": null,
   "id": "ef2f7da7",
   "metadata": {},
   "outputs": [],
   "source": [
    "#WRITING TO A FILE\n",
    "\n",
    "# case 1 : IF FILE IS NOT CREATED ALREADY\n",
    "f=open('sample.txt','a')\n",
    "f.write('Hello World!')"
   ]
  },
  {
   "cell_type": "code",
   "execution_count": null,
   "id": "69792981",
   "metadata": {},
   "outputs": [],
   "source": []
  }
 ],
 "metadata": {
  "kernelspec": {
   "display_name": "Python 3",
   "language": "python",
   "name": "python3"
  },
  "language_info": {
   "codemirror_mode": {
    "name": "ipython",
    "version": 3
   },
   "file_extension": ".py",
   "mimetype": "text/x-python",
   "name": "python",
   "nbconvert_exporter": "python",
   "pygments_lexer": "ipython3",
   "version": "3.12.4"
  }
 },
 "nbformat": 4,
 "nbformat_minor": 5
}
