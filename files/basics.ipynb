{
 "cells": [
  {
   "cell_type": "code",
   "execution_count": 1,
   "id": "bfd31b9b",
   "metadata": {},
   "outputs": [],
   "source": [
    "#File"
   ]
  },
  {
   "cell_type": "code",
   "execution_count": 8,
   "id": "ef2f7da7",
   "metadata": {},
   "outputs": [],
   "source": [
    "#WRITING TO A FILE\n",
    "\n",
    "# case 1 : IF FILE IS NOT CREATED ALREADY\n",
    "f=open('sample.txt','a') # Brings a file from HD to RAM \n",
    "f.write('Hello World!')\n",
    "\n",
    "#\n",
    "L=['Hello ',' My name is Gr', ' I AM AN AI ENGINEER AT GOOGLE']\n",
    "f.writelines(L)\n",
    "f.close()"
   ]
  },
  {
   "cell_type": "code",
   "execution_count": 20,
   "id": "69792981",
   "metadata": {},
   "outputs": [
    {
     "name": "stdout",
     "output_type": "stream",
     "text": [
      "Hello Worl\n",
      "Hello World!Hello World!Hello World!Hello World!Hello  My name is Gr I AM AN AI ENGINEER AT GOOGLE\n",
      "\n",
      "\n"
     ]
    }
   ],
   "source": [
    "# Read \n",
    "f=open('sample.txt','r')\n",
    "res=f.readlines()\n",
    "type(res)\n",
    "f.close()\n",
    "\n",
    "# Read n chars\n",
    "f=open('sample.txt','r')\n",
    "res=f.read(10)\n",
    "print(res)\n",
    "f.close()\n",
    "\n",
    "#read line by line\n",
    "f=open('sample.txt','r')\n",
    "res=f.readline()\n",
    "print(res,end='\\n')\n",
    "res=f.readline()\n",
    "print(res,end='\\n')\n",
    "f.close()\n",
    "\n",
    "# READ ENTIRE FILE \n",
    "f=open('sample.txt','r')\n",
    "while f.readline()!=\"\":\n",
    "    print(f.readline())\n",
    "f.close()\n"
   ]
  },
  {
   "cell_type": "code",
   "execution_count": 21,
   "id": "ec16a568",
   "metadata": {},
   "outputs": [],
   "source": [
    "#with keyword\n",
    "with open('sample.txt','w') as f:\n",
    "    f.write('Selmon bhai')"
   ]
  },
  {
   "cell_type": "code",
   "execution_count": 22,
   "id": "f2d3bd12",
   "metadata": {},
   "outputs": [
    {
     "name": "stdout",
     "output_type": "stream",
     "text": [
      "Selmon bhai\n"
     ]
    }
   ],
   "source": [
    "# try f.read() now\n",
    "with open('sample.txt','r') as f:\n",
    "    print(f.read())"
   ]
  },
  {
   "cell_type": "code",
   "execution_count": 26,
   "id": "e172f139",
   "metadata": {},
   "outputs": [
    {
     "name": "stdout",
     "output_type": "stream",
     "text": [
      "Selmon bha\n",
      "helo worldhelo worldhelo worldhelo worldhelo worldhelo worldhelo worldhelo worldhelo worldhelo world\n",
      "helo worldhelo worldhelo worldhelo worldhelo worldhelo worldhelo worldhelo worldhelo worldhelo world\n",
      "helo worldhelo worldhelo worldhelo worldhelo worldhelo worldhelo worldhelo worldhelo worldhelo world\n",
      "helo worldhelo worldhelo worldhelo worldhelo worldhelo worldhelo worldhelo worldhelo worldhelo world\n",
      "helo worldhelo worldhelo worldhelo worldhelo worldhelo worldhelo worldhelo worldhelo worldhelo world\n",
      "helo worldhelo worldhelo worldhelo worldhelo worldhelo worldhelo worldhelo worldhelo worldhelo world\n",
      "helo worldhelo worldhelo worldhelo worldhelo worldhelo worldhelo worldhelo worldhelo worldhelo world\n",
      "helo worldhelo worldhelo worldhelo worldhelo worldhelo worldhelo worldhelo worldhelo worldhelo world\n",
      "helo worldhelo worldhelo worldhelo worldhelo worldhelo worldhelo worldhelo worldhelo worldhelo world\n",
      "helo worldhelo worldhelo worldhelo worldhelo worldhelo worldhelo worldhelo worldhelo worldhelo world\n",
      "helo worldhelo worldhelo worldhelo worldhelo worldhelo worldhelo worldhelo worldhelo worldhelo world\n",
      "helo worldhelo worldhelo worldhelo worldhelo worldhelo worldhelo worldhelo worldhelo worldhelo world\n",
      "helo worldhelo worldhelo worldhelo worldhelo worldhelo worldhelo worldhelo worldhelo worldhelo world\n",
      "helo worldhelo worldhelo worldhelo worldhelo worldhelo worldhelo worldhelo worldhelo worldhelo world\n",
      "helo worldhelo worldhelo worldhelo worldhelo worldhelo worldhelo worldhelo worldhelo worldhelo world\n",
      "helo worldhelo worldhelo worldhelo worldhelo worldhelo worldhelo worldhelo worldhelo worldhelo world\n",
      "helo worldhelo worldhelo worldhelo worldhelo worldhelo worldhelo worldhelo worldhelo worldhelo world\n",
      "helo worldhelo worldhelo worldhelo worldhelo worldhelo worldhelo worldhelo worldhelo worldhelo world\n",
      "helo worldhelo worldhelo worldhelo worldhelo worldhelo worldhelo worldhelo worldhelo worldhelo world\n",
      "helo worldhelo worldhelo worldhelo worldhelo worldhelo worldhelo worldhelo worldhelo worldhelo world\n",
      "helo worldhelo worldhelo worldhelo worldhelo worldhelo worldhelo worldhelo worldhelo worldhelo world\n",
      "helo worldhelo worldhelo worldhelo worldhelo worldhelo worldhelo worldhelo worldhelo worldhelo world\n",
      "helo worldhelo worldhelo worldhelo worldhelo worldhelo worldhelo worldhelo worldhelo worldhelo world\n",
      "helo worldhelo worldhelo worldhelo worldhelo worldhelo worldhelo worldhelo worldhelo worldhelo world\n",
      "helo worldhelo worldhelo worldhelo worldhelo worldhelo worldhelo worldhelo worldhelo worldhelo world\n",
      "helo worldhelo worldhelo worldhelo worldhelo worldhelo worldhelo worldhelo worldhelo worldhelo world\n",
      "helo worldhelo worldhelo worldhelo worldhelo worldhelo worldhelo worldhelo worldhelo worldhelo world\n",
      "helo worldhelo worldhelo worldhelo worldhelo worldhelo worldhelo worldhelo worldhelo worldhelo world\n",
      "helo worldhelo worldhelo worldhelo worldhelo worldhelo worldhelo worldhelo worldhelo worldhelo world\n",
      "helo worldhelo worldhelo worldhelo worldhelo worldhelo worldhelo worldhelo worldhelo worldhelo world\n",
      "helo worldhelo worldhelo worldhelo worldhelo worldhelo worldhelo worldhelo worldhelo worldhelo world\n",
      "helo worldhelo worldhelo worldhelo worldhelo worldhelo worldhelo worldhelo worldhelo worldhelo world\n",
      "helo worldhelo worldhelo worldhelo worldhelo worldhelo worldhelo worldhelo worldhelo worldhelo world\n",
      "\n"
     ]
    }
   ],
   "source": [
    "#moving within a file\n",
    "with open('sample.txt','r') as f :\n",
    "    print(f.read(10))\n",
    "\n",
    "big_l=['helo world' for i in range(1000) ]\n",
    "with open('big.txt','w') as f:\n",
    "    f.writelines(big_l)\n",
    "\n",
    "with open('big.txt','r') as f:\n",
    "    chunk_size=100\n",
    "    while len(f.read(chunk_size))>0:\n",
    "        print(f.read(chunk_size))\n",
    "        f.read(chunk_size)"
   ]
  },
  {
   "cell_type": "code",
   "execution_count": null,
   "id": "6e04346b",
   "metadata": {},
   "outputs": [],
   "source": []
  }
 ],
 "metadata": {
  "kernelspec": {
   "display_name": "Python 3",
   "language": "python",
   "name": "python3"
  },
  "language_info": {
   "codemirror_mode": {
    "name": "ipython",
    "version": 3
   },
   "file_extension": ".py",
   "mimetype": "text/x-python",
   "name": "python",
   "nbconvert_exporter": "python",
   "pygments_lexer": "ipython3",
   "version": "3.12.4"
  }
 },
 "nbformat": 4,
 "nbformat_minor": 5
}
