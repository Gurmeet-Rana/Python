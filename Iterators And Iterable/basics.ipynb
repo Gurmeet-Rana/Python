{
 "cells": [
  {
   "cell_type": "code",
   "execution_count": null,
   "id": "aaf84c22",
   "metadata": {},
   "outputs": [
    {
     "name": "stdout",
     "output_type": "stream",
     "text": [
      "782.2109375\n",
      "48\n"
     ]
    }
   ],
   "source": [
    "#Iterator - an object that allows the programmer to traverse through a sequence of data witout having to store the entire data in the memory\n",
    "\n",
    "L=[x for x in range(100000)]\n",
    "import time\n",
    "import sys\n",
    "print(sys.getsizeof(L)/1024)\n",
    "\n",
    "x=range(1,100000) #memory save , as we are not storing in memory\n",
    "print(sys.getsizeof(x))\n",
    " \n"
   ]
  },
  {
   "cell_type": "code",
   "execution_count": null,
   "id": "874ebe98",
   "metadata": {},
   "outputs": [
    {
     "data": {
      "text/plain": [
       "' while itr:\\n    print(*itr) '"
      ]
     },
     "execution_count": 25,
     "metadata": {},
     "output_type": "execute_result"
    }
   ],
   "source": [
    "#Iterable is an obj which one can iterate over , It generates an iterator when passed to iter()\n",
    "\n",
    "L=[x for x in range(10)] # L is iterable but it is not iterator\n",
    "\n",
    "#itr=iter(L) # iter is iterator\n",
    "\"\"\" while itr:\n",
    "    print(*itr) \"\"\"\n",
    "\n",
    "#EVERY Iterator iS also AN iterable but not conversely\n",
    "#EVERY ITERABLE HAS AN iter()\n",
    "#EVERY ITERATOR HAS BOTH iter() as well as next() \n",
    "# IF YOU EXE dir(iterator_name) and you see iter() and next() then iterator_name is an iterator  eg\n",
    "t=(1,2,3)\n",
    "dir(t) # find iter() and next() \n",
    "\n",
    "#Iteration - happens because of the iterator\n"
   ]
  },
  {
   "cell_type": "code",
   "execution_count": 1,
   "id": "66b6411b",
   "metadata": {},
   "outputs": [],
   "source": [
    "# how for loop works \n",
    "def myForLoop(iterable):    \n",
    "    nums=[1,2,3]\n",
    "    itr_nums=iter(nums)\n",
    "\n",
    "    while True:\n",
    "        try:\n",
    "            print(next(itr_nums)) #to get the data \n",
    "        except StopIteration:\n",
    "            break\n",
    "    "
   ]
  },
  {
   "cell_type": "code",
   "execution_count": 2,
   "id": "f0971309",
   "metadata": {},
   "outputs": [
    {
     "name": "stdout",
     "output_type": "stream",
     "text": [
      "1\n",
      "2\n",
      "3\n"
     ]
    }
   ],
   "source": [
    "a=[1,2,3,4]\n",
    "myForLoop(a)"
   ]
  },
  {
   "cell_type": "code",
   "execution_count": 5,
   "id": "9df43939",
   "metadata": {},
   "outputs": [
    {
     "name": "stdout",
     "output_type": "stream",
     "text": [
      "1916379176512 Address of iterator 1\n",
      "1916379176512 Address of iterator 2\n"
     ]
    }
   ],
   "source": [
    "# \n",
    "num=[1,2,3]\n",
    "iter_obj=iter(num)\n",
    "print(id(iter_obj),\"Address of iterator 1\")\n",
    "iter_obj2=iter(iter_obj)\n",
    "print(id(iter_obj2),\"Address of iterator 2\") \n",
    "# oBserve both are same"
   ]
  },
  {
   "cell_type": "code",
   "execution_count": 6,
   "id": "fe818545",
   "metadata": {},
   "outputs": [],
   "source": [
    "#Let's create our own range ()\n",
    "class MyRange:\n",
    "    def __init__(self,start,end):\n",
    "        self.start=start\n",
    "        self.end=end\n",
    "\n",
    "    def __iter__(self):\n",
    "        return MyRangeIterator(self)\n",
    "class MyRangeIterator:\n",
    "    def __init__(self,iterable_obj):\n",
    "        self.iterable=iterable_obj\n",
    "\n",
    "    def __iter__(self):\n",
    "        return self\n",
    "    def __next__(self):\n",
    "        if self.iterable.start>=self.iterable.end:\n",
    "            raise StopIteration\n",
    "        current=self.iterable.start\n",
    "        self.iterable.start+=1\n",
    "        return current\n"
   ]
  },
  {
   "cell_type": "code",
   "execution_count": null,
   "id": "62e6f65c",
   "metadata": {},
   "outputs": [],
   "source": []
  }
 ],
 "metadata": {
  "kernelspec": {
   "display_name": "Python 3",
   "language": "python",
   "name": "python3"
  },
  "language_info": {
   "codemirror_mode": {
    "name": "ipython",
    "version": 3
   },
   "file_extension": ".py",
   "mimetype": "text/x-python",
   "name": "python",
   "nbconvert_exporter": "python",
   "pygments_lexer": "ipython3",
   "version": "3.12.4"
  }
 },
 "nbformat": 4,
 "nbformat_minor": 5
}
