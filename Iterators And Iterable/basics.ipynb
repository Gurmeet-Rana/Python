{
 "cells": [
  {
   "cell_type": "code",
   "execution_count": null,
   "id": "aaf84c22",
   "metadata": {},
   "outputs": [
    {
     "name": "stdout",
     "output_type": "stream",
     "text": [
      "782.2109375\n",
      "48\n"
     ]
    }
   ],
   "source": [
    "#Iterator - an object that allows the programmer to traverse through a sequence of data witout having to store the entire data in the memory\n",
    "\n",
    "L=[x for x in range(100000)]\n",
    "import time\n",
    "import sys\n",
    "print(sys.getsizeof(L)/1024)\n",
    "\n",
    "x=range(1,100000) #memory save\n",
    "print(sys.getsizeof(x))\n",
    " \n"
   ]
  },
  {
   "cell_type": "code",
   "execution_count": 25,
   "id": "874ebe98",
   "metadata": {},
   "outputs": [
    {
     "data": {
      "text/plain": [
       "' while itr:\\n    print(*itr) '"
      ]
     },
     "execution_count": 25,
     "metadata": {},
     "output_type": "execute_result"
    }
   ],
   "source": [
    "#Iterable is an obj which one can iterate over , It generates an iterator when passed to iter()\n",
    "\n",
    "L=[x for x in range(10)] # L is iterable\n",
    "#itr=iter(L) # iter is iterator\n",
    "\"\"\" while itr:\n",
    "    print(*itr) \"\"\"\n",
    "\n",
    "#EVERY Iterator iS also AN iterable but not conversely\n",
    "#EVERY ITERABLE HAS AN iter()\n",
    "#EVERY ITERATOR HAS BOTH iter() as well as next() \n",
    " \n",
    "#Iteration - happens because of the iterator\n"
   ]
  },
  {
   "cell_type": "code",
   "execution_count": null,
   "id": "66b6411b",
   "metadata": {},
   "outputs": [],
   "source": [
    "# how for loop works \n",
    "def myForLoop(iterable):    \n",
    "    nums=[1,2,3]\n",
    "    itr=iter(nums)\n",
    "\n",
    "    while True:\n",
    "        try:\n",
    "            print(next(itr)) #to get the data \n",
    "        except StopIteration:\n",
    "            break\n",
    "    "
   ]
  },
  {
   "cell_type": "code",
   "execution_count": null,
   "id": "f0971309",
   "metadata": {},
   "outputs": [
    {
     "ename": "TypeError",
     "evalue": "'list_iterator' object is not callable",
     "output_type": "error",
     "traceback": [
      "\u001b[1;31m---------------------------------------------------------------------------\u001b[0m",
      "\u001b[1;31mTypeError\u001b[0m                                 Traceback (most recent call last)",
      "Cell \u001b[1;32mIn[27], line 2\u001b[0m\n\u001b[0;32m      1\u001b[0m a\u001b[38;5;241m=\u001b[39m[\u001b[38;5;241m1\u001b[39m,\u001b[38;5;241m2\u001b[39m,\u001b[38;5;241m3\u001b[39m,\u001b[38;5;241m4\u001b[39m]\n\u001b[1;32m----> 2\u001b[0m \u001b[43mmyForLoop\u001b[49m\u001b[43m(\u001b[49m\u001b[43ma\u001b[49m\u001b[43m)\u001b[49m\n",
      "Cell \u001b[1;32mIn[26], line 4\u001b[0m, in \u001b[0;36mmyForLoop\u001b[1;34m(iterable)\u001b[0m\n\u001b[0;32m      2\u001b[0m \u001b[38;5;28;01mdef\u001b[39;00m \u001b[38;5;21mmyForLoop\u001b[39m(iterable):    \n\u001b[0;32m      3\u001b[0m     nums\u001b[38;5;241m=\u001b[39m[\u001b[38;5;241m1\u001b[39m,\u001b[38;5;241m2\u001b[39m,\u001b[38;5;241m3\u001b[39m]\n\u001b[1;32m----> 4\u001b[0m     itr\u001b[38;5;241m=\u001b[39m\u001b[38;5;28;43miter\u001b[39;49m\u001b[43m(\u001b[49m\u001b[43mnums\u001b[49m\u001b[43m)\u001b[49m\n\u001b[0;32m      6\u001b[0m     \u001b[38;5;28;01mwhile\u001b[39;00m \u001b[38;5;28;01mTrue\u001b[39;00m:\n\u001b[0;32m      7\u001b[0m         \u001b[38;5;28;01mtry\u001b[39;00m:\n",
      "\u001b[1;31mTypeError\u001b[0m: 'list_iterator' object is not callable"
     ]
    }
   ],
   "source": [
    "a=[1,2,3,4]\n",
    "myForLoop(a)"
   ]
  },
  {
   "cell_type": "code",
   "execution_count": null,
   "id": "9df43939",
   "metadata": {},
   "outputs": [],
   "source": []
  }
 ],
 "metadata": {
  "kernelspec": {
   "display_name": "Python 3",
   "language": "python",
   "name": "python3"
  },
  "language_info": {
   "codemirror_mode": {
    "name": "ipython",
    "version": 3
   },
   "file_extension": ".py",
   "mimetype": "text/x-python",
   "name": "python",
   "nbconvert_exporter": "python",
   "pygments_lexer": "ipython3",
   "version": "3.12.4"
  }
 },
 "nbformat": 4,
 "nbformat_minor": 5
}
