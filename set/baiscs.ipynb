{
 "cells": [
  {
   "cell_type": "code",
   "execution_count": null,
   "id": "3d0c5cf5",
   "metadata": {},
   "outputs": [],
   "source": [
    "# set is unordered collection of items , unique , items must be immutable\n",
    "# unordered , mutable , no duplicated , can't contain mutable items\n",
    "# ADD - st.add(ele) \n",
    "# UPDATE - can add multiple items in one go , st.update([5,6,7])\n",
    "# DELETION - del eg. del s (whole set)\n",
    "#           discard eg. st.discard(ele) - doesn't through err if ele doesn't exists\n",
    "#           remove  eg. st.remove(ele)\n",
    "#           pop eg. randomly delete any element\n",
    "#           clear eg.clears thset set"
   ]
  },
  {
   "cell_type": "code",
   "execution_count": null,
   "id": "58a5ba3f",
   "metadata": {},
   "outputs": [
    {
     "ename": "TypeError",
     "evalue": "set expected at most 1 argument, got 4",
     "output_type": "error",
     "traceback": [
      "\u001b[1;31m---------------------------------------------------------------------------\u001b[0m",
      "\u001b[1;31mTypeError\u001b[0m                                 Traceback (most recent call last)",
      "Cell \u001b[1;32mIn[6], line 2\u001b[0m\n\u001b[0;32m      1\u001b[0m st\u001b[38;5;241m=\u001b[39m{\u001b[38;5;241m1\u001b[39m,\u001b[38;5;241m1\u001b[39m,\u001b[38;5;241m2\u001b[39m,\u001b[38;5;241m2\u001b[39m}\n\u001b[1;32m----> 2\u001b[0m s\u001b[38;5;241m=\u001b[39m\u001b[38;5;28;43mset\u001b[39;49m\u001b[43m(\u001b[49m\u001b[38;5;241;43m1\u001b[39;49m\u001b[43m,\u001b[49m\u001b[38;5;241;43m1\u001b[39;49m\u001b[43m,\u001b[49m\u001b[38;5;241;43m2\u001b[39;49m\u001b[43m,\u001b[49m\u001b[38;5;241;43m2\u001b[39;49m\u001b[43m)\u001b[49m\n\u001b[0;32m      3\u001b[0m \u001b[38;5;28mprint\u001b[39m(\u001b[38;5;28mtype\u001b[39m(st))\n\u001b[0;32m      4\u001b[0m \u001b[38;5;28mprint\u001b[39m(\u001b[38;5;28mtype\u001b[39m(s))\n",
      "\u001b[1;31mTypeError\u001b[0m: set expected at most 1 argument, got 4"
     ]
    }
   ],
   "source": [
    "st={1,1,2,2}\n",
    " \n",
    "print(type(st))\n",
    " "
   ]
  },
  {
   "cell_type": "code",
   "execution_count": 7,
   "id": "b07850be",
   "metadata": {},
   "outputs": [],
   "source": [
    "s3={1,'hello',4.5} "
   ]
  },
  {
   "cell_type": "code",
   "execution_count": 8,
   "id": "7c607a88",
   "metadata": {},
   "outputs": [],
   "source": [
    "s4=set([1,2,3])"
   ]
  },
  {
   "cell_type": "code",
   "execution_count": 12,
   "id": "2967c3c3",
   "metadata": {},
   "outputs": [
    {
     "name": "stdout",
     "output_type": "stream",
     "text": [
      "True\n"
     ]
    }
   ],
   "source": [
    "s1={1,2,3}\n",
    "s2={3,2,1}\n",
    "print(s1==s2)\n",
    "\n",
    "s1.add(4)\n",
    "s1.update([1,3,4,9])"
   ]
  },
  {
   "cell_type": "code",
   "execution_count": 14,
   "id": "87635430",
   "metadata": {},
   "outputs": [
    {
     "data": {
      "text/plain": [
       "{1, 3}"
      ]
     },
     "execution_count": 14,
     "metadata": {},
     "output_type": "execute_result"
    }
   ],
   "source": [
    "# set operations \n",
    "\n",
    "#Union(|)\n",
    "#Intersection(&)\n",
    "#Difference(-)\n",
    "#Symmetric Difference(^)\n",
    "#Membership Test\n",
    "#Iteration\n",
    "\n",
    "#len/sum/min/max/sorted\n",
    "\n",
    "#union\n",
    "s1={1}\n",
    "s2={1,3}\n",
    "s1.union(s2)"
   ]
  },
  {
   "cell_type": "code",
   "execution_count": 16,
   "id": "011a1bce",
   "metadata": {},
   "outputs": [],
   "source": [
    "# intersection , intersection_update\n",
    "\n",
    "#isdisjoint()/issubset()/issuperset()\n",
    "\n",
    "#s1.copy(s2)"
   ]
  },
  {
   "cell_type": "code",
   "execution_count": 18,
   "id": "189ad339",
   "metadata": {},
   "outputs": [
    {
     "data": {
      "text/plain": [
       "frozenset"
      ]
     },
     "execution_count": 18,
     "metadata": {},
     "output_type": "execute_result"
    }
   ],
   "source": [
    "#Frozenset - immutable version of python set object \n",
    "fs=frozenset([1,2,3])\n",
    "type(fs)\n",
    " "
   ]
  },
  {
   "cell_type": "code",
   "execution_count": null,
   "id": "ab05546d",
   "metadata": {},
   "outputs": [],
   "source": []
  }
 ],
 "metadata": {
  "kernelspec": {
   "display_name": "Python 3",
   "language": "python",
   "name": "python3"
  },
  "language_info": {
   "codemirror_mode": {
    "name": "ipython",
    "version": 3
   },
   "file_extension": ".py",
   "mimetype": "text/x-python",
   "name": "python",
   "nbconvert_exporter": "python",
   "pygments_lexer": "ipython3",
   "version": "3.12.4"
  }
 },
 "nbformat": 4,
 "nbformat_minor": 5
}
