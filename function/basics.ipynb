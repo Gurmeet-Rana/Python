{
 "cells": [
  {
   "cell_type": "code",
   "execution_count": 9,
   "id": "037c5ca4",
   "metadata": {},
   "outputs": [
    {
     "data": {
      "text/plain": [
       "'diwali + diwali'"
      ]
     },
     "execution_count": 9,
     "metadata": {},
     "output_type": "execute_result"
    }
   ],
   "source": [
    "def wish(name,wish):  # PARAMETERS\n",
    "    return f\"{name} + {wish}\"\n",
    "wish(wish='diwali',name='diwali') # POSITIONAL ARGUMENT\n",
    "\n"
   ]
  },
  {
   "cell_type": "code",
   "execution_count": 12,
   "id": "f7386062",
   "metadata": {},
   "outputs": [],
   "source": [
    "# *args , **kwargs\n",
    "# allows us to pass variable number of non-keyword arguments to a functions"
   ]
  },
  {
   "cell_type": "code",
   "execution_count": null,
   "id": "f904a8cd",
   "metadata": {},
   "outputs": [],
   "source": []
  }
 ],
 "metadata": {
  "kernelspec": {
   "display_name": "Python 3",
   "language": "python",
   "name": "python3"
  },
  "language_info": {
   "codemirror_mode": {
    "name": "ipython",
    "version": 3
   },
   "file_extension": ".py",
   "mimetype": "text/x-python",
   "name": "python",
   "nbconvert_exporter": "python",
   "pygments_lexer": "ipython3",
   "version": "3.12.4"
  }
 },
 "nbformat": 4,
 "nbformat_minor": 5
}
