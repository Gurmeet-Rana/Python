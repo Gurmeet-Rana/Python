{
 "cells": [
  {
   "cell_type": "code",
   "execution_count": 9,
   "id": "037c5ca4",
   "metadata": {},
   "outputs": [
    {
     "data": {
      "text/plain": [
       "'diwali + diwali'"
      ]
     },
     "execution_count": 9,
     "metadata": {},
     "output_type": "execute_result"
    }
   ],
   "source": [
    "def wish(name,wish):  # PARAMETERS\n",
    "    return f\"{name} + {wish}\"\n",
    "wish(wish='diwali',name='diwali') # POSITIONAL ARGUMENT\n",
    "\n"
   ]
  },
  {
   "cell_type": "code",
   "execution_count": null,
   "id": "f7386062",
   "metadata": {},
   "outputs": [
    {
     "data": {
      "text/plain": [
       "0"
      ]
     },
     "execution_count": 14,
     "metadata": {},
     "output_type": "execute_result"
    }
   ],
   "source": [
    "# *args , **kwargs\n",
    "# *args - allows us to pass variable number of non-keyword arguments to a functions\n",
    "\n",
    "def multiply(*args):\n",
    "    product=1\n",
    "    for i in args:\n",
    "        product=product*i\n",
    "    return product\n",
    "multiply(1,2,9,4,5,0)"
   ]
  },
  {
   "cell_type": "code",
   "execution_count": null,
   "id": "f904a8cd",
   "metadata": {},
   "outputs": [
    {
     "name": "stdout",
     "output_type": "stream",
     "text": [
      "None\n"
     ]
    }
   ],
   "source": [
    "multiply.__doc__"
   ]
  },
  {
   "cell_type": "code",
   "execution_count": 17,
   "id": "04bce4dc",
   "metadata": {},
   "outputs": [],
   "source": [
    "# **kwargs - allows us to pass any number of keyword arguments \n",
    "# keyword arguments mean that they contain a key-value pair , like a python dictionary "
   ]
  },
  {
   "cell_type": "code",
   "execution_count": 19,
   "id": "62718db8",
   "metadata": {},
   "outputs": [],
   "source": [
    "def display(**kwargs):\n",
    "    for (key,value) in kwargs.items():\n",
    "        print(key,'->',value) "
   ]
  },
  {
   "cell_type": "code",
   "execution_count": 26,
   "id": "714ee3e9",
   "metadata": {},
   "outputs": [
    {
     "data": {
      "text/plain": [
       "'GurmeetRana'"
      ]
     },
     "execution_count": 26,
     "metadata": {},
     "output_type": "execute_result"
    }
   ],
   "source": [
    " \n",
    "def display(*args):\n",
    "    str=\"\"\n",
    "    for i in args:\n",
    "        str=str+i\n",
    "    return str\n",
    "l=[1,2,3,display]        # function is a first class member\n",
    "l[-1](\"Gurmeet\",\"Rana\")"
   ]
  },
  {
   "cell_type": "code",
   "execution_count": 31,
   "id": "4ee7018b",
   "metadata": {},
   "outputs": [
    {
     "data": {
      "text/plain": [
       "81"
      ]
     },
     "execution_count": 31,
     "metadata": {},
     "output_type": "execute_result"
    }
   ],
   "source": [
    "# lambda function is a small anamynous function\n",
    " \n",
    "a=lambda x : x**2  \n",
    "a(9)"
   ]
  },
  {
   "cell_type": "code",
   "execution_count": 32,
   "id": "5624893c",
   "metadata": {},
   "outputs": [],
   "source": [
    "#Higher Order Functions - that inputs or output a function  "
   ]
  },
  {
   "cell_type": "code",
   "execution_count": 33,
   "id": "d6f896ec",
   "metadata": {},
   "outputs": [
    {
     "name": "stdout",
     "output_type": "stream",
     "text": [
      "[1, 4, 9]\n"
     ]
    }
   ],
   "source": [
    "def square(n):\n",
    "    return n**2\n",
    "def transform(f,L):\n",
    "    output=[]\n",
    "    for i in L:\n",
    "        output.append(square(i))\n",
    "    print(output)\n",
    "L=[1,2,3]\n",
    "transform(square,L)"
   ]
  },
  {
   "cell_type": "code",
   "execution_count": null,
   "id": "a608436a",
   "metadata": {},
   "outputs": [],
   "source": [
    "#Map\n"
   ]
  }
 ],
 "metadata": {
  "kernelspec": {
   "display_name": "Python 3",
   "language": "python",
   "name": "python3"
  },
  "language_info": {
   "codemirror_mode": {
    "name": "ipython",
    "version": 3
   },
   "file_extension": ".py",
   "mimetype": "text/x-python",
   "name": "python",
   "nbconvert_exporter": "python",
   "pygments_lexer": "ipython3",
   "version": "3.12.4"
  }
 },
 "nbformat": 4,
 "nbformat_minor": 5
}
