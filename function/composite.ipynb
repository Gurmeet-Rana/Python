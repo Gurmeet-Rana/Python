{
 "cells": [
  {
   "cell_type": "code",
   "execution_count": 1,
   "id": "393de63d",
   "metadata": {},
   "outputs": [],
   "source": [
    "def subtract_32(x):\n",
    "    return x-32\n",
    "def mul_5_9(x):\n",
    "    return (5/9)*x\n",
    "def composite(f1,f2):\n",
    "    return lambda x : f1(f2(x))"
   ]
  },
  {
   "cell_type": "code",
   "execution_count": 3,
   "id": "a4e3d045",
   "metadata": {},
   "outputs": [],
   "source": [
    "res=composite(subtract_32,mul_5_9)"
   ]
  },
  {
   "cell_type": "code",
   "execution_count": 4,
   "id": "c4059e90",
   "metadata": {},
   "outputs": [
    {
     "data": {
      "text/plain": [
       "22.44444444444445"
      ]
     },
     "execution_count": 4,
     "metadata": {},
     "output_type": "execute_result"
    }
   ],
   "source": [
    "res(98)"
   ]
  },
  {
   "cell_type": "code",
   "execution_count": null,
   "id": "610695d5",
   "metadata": {},
   "outputs": [],
   "source": []
  }
 ],
 "metadata": {
  "kernelspec": {
   "display_name": "Python 3",
   "language": "python",
   "name": "python3"
  },
  "language_info": {
   "codemirror_mode": {
    "name": "ipython",
    "version": 3
   },
   "file_extension": ".py",
   "mimetype": "text/x-python",
   "name": "python",
   "nbconvert_exporter": "python",
   "pygments_lexer": "ipython3",
   "version": "3.12.4"
  }
 },
 "nbformat": 4,
 "nbformat_minor": 5
}
