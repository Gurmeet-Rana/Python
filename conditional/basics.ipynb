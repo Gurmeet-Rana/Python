{
 "cells": [
  {
   "cell_type": "markdown",
   "id": "636a26e8",
   "metadata": {},
   "source": [
    "MEMEBER SHIP : in , not in \n",
    "CONDITIONAL : if , elif , else\n"
   ]
  },
  {
   "cell_type": "code",
   "execution_count": 1,
   "id": "df81bd82",
   "metadata": {},
   "outputs": [
    {
     "name": "stdout",
     "output_type": "stream",
     "text": [
      "Kajal\n"
     ]
    },
    {
     "data": {
      "text/plain": [
       "False"
      ]
     },
     "execution_count": 1,
     "metadata": {},
     "output_type": "execute_result"
    }
   ],
   "source": [
    "name=\"GR\"\n",
    "names=['Kajal']\n",
    "if name!=\"Gurmeet\":\n",
    "    print(\"Kajal\")\n",
    "elif name!=\"Kajal\":\n",
    "    print(\"Gurmeet\")\n",
    "\n",
    "name in names "
   ]
  },
  {
   "cell_type": "code",
   "execution_count": null,
   "id": "f442ebec",
   "metadata": {},
   "outputs": [],
   "source": []
  }
 ],
 "metadata": {
  "kernelspec": {
   "display_name": "Python 3",
   "language": "python",
   "name": "python3"
  },
  "language_info": {
   "codemirror_mode": {
    "name": "ipython",
    "version": 3
   },
   "file_extension": ".py",
   "mimetype": "text/x-python",
   "name": "python",
   "nbconvert_exporter": "python",
   "pygments_lexer": "ipython3",
   "version": "3.12.4"
  }
 },
 "nbformat": 4,
 "nbformat_minor": 5
}
