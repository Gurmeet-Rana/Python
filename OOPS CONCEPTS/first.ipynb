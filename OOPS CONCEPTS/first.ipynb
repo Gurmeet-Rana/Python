{
 "cells": [
  {
   "cell_type": "code",
   "execution_count": null,
   "id": "6d3dc272",
   "metadata": {},
   "outputs": [],
   "source": [
    "# TWO TYPES OF CLASSES - BUILT IN , USER DEF "
   ]
  },
  {
   "cell_type": "code",
   "execution_count": 14,
   "id": "538b858b",
   "metadata": {},
   "outputs": [
    {
     "name": "stdout",
     "output_type": "stream",
     "text": [
      "mai to execute ho gaya!\n"
     ]
    }
   ],
   "source": [
    "class ATM :\n",
    "    def  __init__(self):\n",
    "      self.pin=''\n",
    "      self.balance=0\n",
    "      print('mai to execute ho gaya!')\n",
    "\n",
    "    def menu(self):\n",
    "      choice=input(\"1. Dish\\n2. Exit\")\n",
    "      if(choice=='1'):\n",
    "            print('Hello 1 ')\n",
    "         \n",
    "      else : return \n",
    "obj=ATM()"
   ]
  },
  {
   "cell_type": "code",
   "execution_count": 15,
   "id": "e73b72c6",
   "metadata": {},
   "outputs": [
    {
     "name": "stdout",
     "output_type": "stream",
     "text": [
      "Hello 1 \n"
     ]
    }
   ],
   "source": [
    "obj.menu()"
   ]
  },
  {
   "cell_type": "code",
   "execution_count": null,
   "id": "855af9d9",
   "metadata": {},
   "outputs": [],
   "source": []
  }
 ],
 "metadata": {
  "kernelspec": {
   "display_name": "Python 3",
   "language": "python",
   "name": "python3"
  },
  "language_info": {
   "codemirror_mode": {
    "name": "ipython",
    "version": 3
   },
   "file_extension": ".py",
   "mimetype": "text/x-python",
   "name": "python",
   "nbconvert_exporter": "python",
   "pygments_lexer": "ipython3",
   "version": "3.12.4"
  }
 },
 "nbformat": 4,
 "nbformat_minor": 5
}
