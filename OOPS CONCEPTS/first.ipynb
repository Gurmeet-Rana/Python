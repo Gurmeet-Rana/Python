{
 "cells": [
  {
   "cell_type": "code",
   "execution_count": null,
   "id": "6d3dc272",
   "metadata": {},
   "outputs": [],
   "source": [
    "# TWO TYPES OF CLASSES - BUILT IN , USER DEF "
   ]
  },
  {
   "cell_type": "code",
   "execution_count": null,
   "id": "538b858b",
   "metadata": {},
   "outputs": [],
   "source": [
    "class ATM : \n",
    "  #constructor\n",
    "  def __init__(self): # declare / create variables inside the constructor \n",
    "    self.pin=''\n",
    "    self.balance=0\n",
    "    self.menu()\n",
    "  def menu(self):\n",
    "    choice=input(\"Hi How can i help you ? Press : \\n 1. Create Pin \\n 2. Change Pin\\n 3. Check Balance\\n 4. Withdrawl\\n 5. Anything else to EXIT\")\n",
    "    if choice=='1':\n",
    "      self.changePin()\n",
    "    elif choice=='2':\n",
    "      self.changePin()\n",
    "    elif choice=='3':\n",
    "      self.showBalance()\n",
    "    elif choice=='4':\n",
    "      self.withdrawl()\n",
    "    else : exit()\n",
    "\n",
    "  def changePin(self):\n",
    "    self.pin=input(\"Enter your pin \")\n",
    "    self.balance=int(input(\"Enter the balance \"))\n",
    "  def withdrawl(self):\n",
    "    amt=int(input(\"Enter amount to withdraw \"))\n",
    "    self.balance-=amt\n",
    "  def showBalance(self):\n",
    "    print(self.balance)\n",
    "    \n"
   ]
  },
  {
   "cell_type": "code",
   "execution_count": 8,
   "id": "e73b72c6",
   "metadata": {},
   "outputs": [],
   "source": [
    "obj=ATM() "
   ]
  },
  {
   "cell_type": "code",
   "execution_count": 9,
   "id": "855af9d9",
   "metadata": {},
   "outputs": [],
   "source": [
    "obj.withdrawl()"
   ]
  },
  {
   "cell_type": "code",
   "execution_count": 10,
   "id": "f67146dc",
   "metadata": {},
   "outputs": [
    {
     "name": "stdout",
     "output_type": "stream",
     "text": [
      "50\n"
     ]
    }
   ],
   "source": [
    "obj.showBalance()"
   ]
  },
  {
   "cell_type": "code",
   "execution_count": 1,
   "id": "d77f8510",
   "metadata": {},
   "outputs": [],
   "source": [
    "#CLASS DIAGRAM \n",
    "#FUNCTIONS VS METHODS\n",
    "# MAGIC METHODS   ->  def _ _ name _ _ ( ) : , we can create our own datatype using magic ()\n"
   ]
  },
  {
   "cell_type": "code",
   "execution_count": 2,
   "id": "7e3f9a7e",
   "metadata": {},
   "outputs": [],
   "source": [
    "class Fraction : \n",
    "    def __init__(self,x,y):\n",
    "        self.num=x\n",
    "        self.denom=y"
   ]
  },
  {
   "cell_type": "code",
   "execution_count": 3,
   "id": "8e0056b7",
   "metadata": {},
   "outputs": [],
   "source": [
    "obj=Fraction(1,2)"
   ]
  },
  {
   "cell_type": "code",
   "execution_count": 4,
   "id": "bee2dfc0",
   "metadata": {},
   "outputs": [],
   "source": [
    "obj2=Fraction(2,1)"
   ]
  },
  {
   "cell_type": "code",
   "execution_count": null,
   "id": "6e53ca55",
   "metadata": {},
   "outputs": [
    {
     "ename": "TypeError",
     "evalue": "unsupported operand type(s) for *: 'Fraction' and 'Fraction'",
     "output_type": "error",
     "traceback": [
      "\u001b[1;31m---------------------------------------------------------------------------\u001b[0m",
      "\u001b[1;31mTypeError\u001b[0m                                 Traceback (most recent call last)",
      "Cell \u001b[1;32mIn[5], line 1\u001b[0m\n\u001b[1;32m----> 1\u001b[0m \u001b[38;5;28mprint\u001b[39m(\u001b[43mobj\u001b[49m\u001b[38;5;241;43m*\u001b[39;49m\u001b[43mobj2\u001b[49m)\n",
      "\u001b[1;31mTypeError\u001b[0m: unsupported operand type(s) for *: 'Fraction' and 'Fraction'"
     ]
    }
   ],
   "source": [
    " "
   ]
  },
  {
   "cell_type": "code",
   "execution_count": null,
   "id": "58ae0122",
   "metadata": {},
   "outputs": [],
   "source": []
  }
 ],
 "metadata": {
  "kernelspec": {
   "display_name": "Python 3",
   "language": "python",
   "name": "python3"
  },
  "language_info": {
   "codemirror_mode": {
    "name": "ipython",
    "version": 3
   },
   "file_extension": ".py",
   "mimetype": "text/x-python",
   "name": "python",
   "nbconvert_exporter": "python",
   "pygments_lexer": "ipython3",
   "version": "3.12.4"
  }
 },
 "nbformat": 4,
 "nbformat_minor": 5
}
