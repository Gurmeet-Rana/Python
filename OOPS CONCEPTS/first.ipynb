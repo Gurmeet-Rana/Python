{
 "cells": [
  {
   "cell_type": "code",
   "execution_count": null,
   "id": "6d3dc272",
   "metadata": {},
   "outputs": [],
   "source": [
    "# TWO TYPES OF CLASSES - BUILT IN , USER DEF "
   ]
  },
  {
   "cell_type": "code",
   "execution_count": null,
   "id": "538b858b",
   "metadata": {},
   "outputs": [],
   "source": [
    "class ATM : \n",
    "  #constructor\n",
    "  def __init__(self): # declare / create variables inside the constructor \n",
    "    self.pin=''\n",
    "    self.balance=0\n",
    "    self.menu()\n",
    "  def menu(self):\n",
    "    choice=input(\"Hi How can i help you ? Press : \\n 1. Create Pin \\n 2. Change Pin\\n 3. Check Balance\\n 4. Withdrawl\\n 5. Anything else to EXIT\")\n",
    "    if choice=='1':\n",
    "      self.changePin()\n",
    "    elif choice=='2':\n",
    "      self.changePin()\n",
    "    elif choice=='3':\n",
    "      self.showBalance()\n",
    "    elif choice=='4':\n",
    "      self.withdrawl()\n",
    "    else : exit()\n",
    "\n",
    "  def changePin(self):\n",
    "    self.pin=input(\"Enter your pin \")\n",
    "    self.balance=int(input(\"Enter the balance \"))\n",
    "  def withdrawl(self):\n",
    "    amt=int(input(\"Enter amount to withdraw \"))\n",
    "    self.balance-=amt\n",
    "  def showBalance(self):\n",
    "    print(self.balance)\n",
    "    \n"
   ]
  },
  {
   "cell_type": "code",
   "execution_count": 8,
   "id": "e73b72c6",
   "metadata": {},
   "outputs": [],
   "source": [
    "obj=ATM() "
   ]
  },
  {
   "cell_type": "code",
   "execution_count": 9,
   "id": "855af9d9",
   "metadata": {},
   "outputs": [],
   "source": [
    "obj.withdrawl()"
   ]
  },
  {
   "cell_type": "code",
   "execution_count": 10,
   "id": "f67146dc",
   "metadata": {},
   "outputs": [
    {
     "name": "stdout",
     "output_type": "stream",
     "text": [
      "50\n"
     ]
    }
   ],
   "source": [
    "obj.showBalance()"
   ]
  },
  {
   "cell_type": "code",
   "execution_count": 1,
   "id": "d77f8510",
   "metadata": {},
   "outputs": [],
   "source": [
    "#CLASS DIAGRAM \n",
    "#FUNCTIONS VS METHODS\n",
    "# MAGIC METHODS   ->  def _ _ name _ _ ( ) : , we can create our own datatype using magic ()\n"
   ]
  },
  {
   "cell_type": "code",
   "execution_count": 13,
   "id": "7e3f9a7e",
   "metadata": {},
   "outputs": [],
   "source": [
    "class Fraction : \n",
    "    def __init__(self,x,y):\n",
    "        self.num=x\n",
    "        self.denom=y\n",
    "    def __str__(self):\n",
    "        return '{}/{}'.format(self.num,self.denom)\n",
    "    def __add__(self,other):\n",
    "        self.num=self.num*other.denum+self.denom+other.num\n",
    "        self.denom=self.denom*other.denom "
   ]
  },
  {
   "cell_type": "code",
   "execution_count": 14,
   "id": "8e0056b7",
   "metadata": {},
   "outputs": [
    {
     "name": "stdout",
     "output_type": "stream",
     "text": [
      "1/2\n"
     ]
    }
   ],
   "source": [
    "obj=Fraction(1,2)\n",
    "print(obj)"
   ]
  },
  {
   "cell_type": "code",
   "execution_count": 15,
   "id": "bee2dfc0",
   "metadata": {},
   "outputs": [],
   "source": [
    "obj2=Fraction(2,1)"
   ]
  },
  {
   "cell_type": "code",
   "execution_count": null,
   "id": "4d4be408",
   "metadata": {},
   "outputs": [],
   "source": [
    "obj.name='Fraction' # GIVING MEMBER FROM OUTSIDE THE CLASS "
   ]
  },
  {
   "cell_type": "code",
   "execution_count": 11,
   "id": "58ae0122",
   "metadata": {},
   "outputs": [],
   "source": [
    "class Point : \n",
    "    def __init__(self , x , y ):\n",
    "        self.x=x\n",
    "        self.y=y\n",
    "    def __str__(self):\n",
    "        return '<{},{}>'.format(self.x,self.y) \n",
    "    def distanceFromOrigin(self):\n",
    "        return (self.x**2+self.y**2)**0.5\n",
    "    \n",
    "        "
   ]
  },
  {
   "cell_type": "code",
   "execution_count": 12,
   "id": "fd7e98ab",
   "metadata": {},
   "outputs": [
    {
     "name": "stdout",
     "output_type": "stream",
     "text": [
      "<1,1>\n",
      "1.4142135623730951\n"
     ]
    }
   ],
   "source": [
    "p=Point(1,1)\n",
    "print(p)\n",
    "print(p.distanceFromOrigin())"
   ]
  },
  {
   "cell_type": "code",
   "execution_count": 20,
   "id": "56b75036",
   "metadata": {},
   "outputs": [],
   "source": [
    "class Line:\n",
    "    def __init__(self,A,B,C):\n",
    "        self.a=A\n",
    "        self.b=B\n",
    "        self.c=C\n",
    "    def __str__(self):\n",
    "        return '{}x+{}y+{}z=0'.format(self.a,self.b,self.c)\n",
    "    def pointOnLine(self,point):\n",
    "        return self.a*point.x+self.b*point.y+self.c==0"
   ]
  },
  {
   "cell_type": "code",
   "execution_count": 21,
   "id": "2aca6d74",
   "metadata": {},
   "outputs": [
    {
     "name": "stdout",
     "output_type": "stream",
     "text": [
      "1x+2y+3z=0\n"
     ]
    },
    {
     "data": {
      "text/plain": [
       "False"
      ]
     },
     "execution_count": 21,
     "metadata": {},
     "output_type": "execute_result"
    }
   ],
   "source": [
    "l=Line(1,2,3)\n",
    "print(l)\n",
    "l.pointOnLine(p)"
   ]
  },
  {
   "cell_type": "code",
   "execution_count": 22,
   "id": "f86c7617",
   "metadata": {},
   "outputs": [],
   "source": [
    "#Reference Variable"
   ]
  },
  {
   "cell_type": "code",
   "execution_count": 23,
   "id": "3e34ccc8",
   "metadata": {},
   "outputs": [],
   "source": [
    "#Paas By Reference\n"
   ]
  },
  {
   "cell_type": "code",
   "execution_count": 24,
   "id": "1e54391c",
   "metadata": {},
   "outputs": [],
   "source": [
    "#OBJECTS ARE MUTABLE BY DEFAULT"
   ]
  },
  {
   "cell_type": "code",
   "execution_count": null,
   "id": "1623a722",
   "metadata": {},
   "outputs": [],
   "source": []
  }
 ],
 "metadata": {
  "kernelspec": {
   "display_name": "Python 3",
   "language": "python",
   "name": "python3"
  },
  "language_info": {
   "codemirror_mode": {
    "name": "ipython",
    "version": 3
   },
   "file_extension": ".py",
   "mimetype": "text/x-python",
   "name": "python",
   "nbconvert_exporter": "python",
   "pygments_lexer": "ipython3",
   "version": "3.12.4"
  }
 },
 "nbformat": 4,
 "nbformat_minor": 5
}
