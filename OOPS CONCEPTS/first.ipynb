{
 "cells": [
  {
   "cell_type": "code",
   "execution_count": 1,
   "id": "538b858b",
   "metadata": {},
   "outputs": [],
   "source": [
    "class ATM :\n",
    "   def  __init__(self):\n",
    "      self.pin=''\n",
    "      self.balance=0\n",
    "obj=ATM()"
   ]
  },
  {
   "cell_type": "code",
   "execution_count": null,
   "id": "e73b72c6",
   "metadata": {},
   "outputs": [],
   "source": []
  }
 ],
 "metadata": {
  "kernelspec": {
   "display_name": "Python 3",
   "language": "python",
   "name": "python3"
  },
  "language_info": {
   "codemirror_mode": {
    "name": "ipython",
    "version": 3
   },
   "file_extension": ".py",
   "mimetype": "text/x-python",
   "name": "python",
   "nbconvert_exporter": "python",
   "pygments_lexer": "ipython3",
   "version": "3.12.4"
  }
 },
 "nbformat": 4,
 "nbformat_minor": 5
}
