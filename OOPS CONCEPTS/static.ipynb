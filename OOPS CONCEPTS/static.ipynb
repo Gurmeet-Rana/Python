{
 "cells": [
  {
   "cell_type": "code",
   "execution_count": 1,
   "id": "33442912",
   "metadata": {},
   "outputs": [],
   "source": [
    "#Counting number of instances created "
   ]
  },
  {
   "cell_type": "code",
   "execution_count": null,
   "id": "76a256a8",
   "metadata": {},
   "outputs": [],
   "source": [
    "class Person : \n",
    "    counter=0\n",
    "    def __init__(self,name):\n",
    "        self.name=name\n",
    "        self.id=Person.counter+1\n",
    "        Person.counter+=1\n",
    "        \n",
    "    "
   ]
  },
  {
   "cell_type": "code",
   "execution_count": 3,
   "id": "3f201b90",
   "metadata": {},
   "outputs": [],
   "source": [
    "p=Person(\"GR\")\n",
    "q=Person(\"Gucchi\")\n",
    "r=Person('Sachi')"
   ]
  },
  {
   "cell_type": "code",
   "execution_count": 4,
   "id": "4ef660de",
   "metadata": {},
   "outputs": [
    {
     "data": {
      "text/plain": [
       "1"
      ]
     },
     "execution_count": 4,
     "metadata": {},
     "output_type": "execute_result"
    }
   ],
   "source": [
    "p.id"
   ]
  },
  {
   "cell_type": "code",
   "execution_count": 5,
   "id": "db4b687e",
   "metadata": {},
   "outputs": [
    {
     "data": {
      "text/plain": [
       "2"
      ]
     },
     "execution_count": 5,
     "metadata": {},
     "output_type": "execute_result"
    }
   ],
   "source": [
    "q.id"
   ]
  },
  {
   "cell_type": "code",
   "execution_count": 6,
   "id": "8c21e4e9",
   "metadata": {},
   "outputs": [
    {
     "data": {
      "text/plain": [
       "3"
      ]
     },
     "execution_count": 6,
     "metadata": {},
     "output_type": "execute_result"
    }
   ],
   "source": [
    "r.id"
   ]
  },
  {
   "cell_type": "code",
   "execution_count": 7,
   "id": "4c51ab6a",
   "metadata": {},
   "outputs": [
    {
     "data": {
      "text/plain": [
       "3"
      ]
     },
     "execution_count": 7,
     "metadata": {},
     "output_type": "execute_result"
    }
   ],
   "source": [
    "Person.counter"
   ]
  },
  {
   "cell_type": "code",
   "execution_count": null,
   "id": "6cdbac8b",
   "metadata": {},
   "outputs": [],
   "source": [
    "#you can create a method inside your class which does not take self as Parameter\n",
    "class Person : \n",
    "    __counter=0\n",
    "    def __init__(self,name):\n",
    "        self.name=name\n",
    "        self.id=Person.__counter+1\n",
    "        Person.__counter+=1\n",
    "         \n",
    "    @staticmethod # static method\n",
    "    def get_counter(): # not having self ,  these are utility functions\n",
    "        return Person.__counter \n",
    "\n"
   ]
  },
  {
   "cell_type": "code",
   "execution_count": null,
   "id": "55685d8b",
   "metadata": {},
   "outputs": [],
   "source": []
  }
 ],
 "metadata": {
  "kernelspec": {
   "display_name": "Python 3",
   "language": "python",
   "name": "python3"
  },
  "language_info": {
   "codemirror_mode": {
    "name": "ipython",
    "version": 3
   },
   "file_extension": ".py",
   "mimetype": "text/x-python",
   "name": "python",
   "nbconvert_exporter": "python",
   "pygments_lexer": "ipython3",
   "version": "3.12.4"
  }
 },
 "nbformat": 4,
 "nbformat_minor": 5
}
