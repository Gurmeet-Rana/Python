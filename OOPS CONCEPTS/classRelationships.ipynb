{
 "cells": [
  {
   "cell_type": "code",
   "execution_count": 3,
   "id": "f69d4007",
   "metadata": {},
   "outputs": [],
   "source": [
    "#class Relationships - Aggregation(Has A relationShip) and Inheritance"
   ]
  },
  {
   "cell_type": "code",
   "execution_count": null,
   "id": "8760e555",
   "metadata": {},
   "outputs": [],
   "source": [
    "class Customer: \n",
    "    def __init__(self,name,pin,add):\n",
    "        self.name=name\n",
    "        self.pin=pin\n",
    "        self.address=add # aggregation \n",
    "    def __str__(self):\n",
    "        return 'Name : {}\\nPin : {}\\n Address : {},{},{} '.format(self.name,self.pin,self.address.city,self.address.state,self.address.country)\n",
    "class Address:\n",
    "    def __init__(self,city,state,country):\n",
    "        self.city=city\n",
    "        self.country=country\n",
    "        self.state=state\n"
   ]
  },
  {
   "cell_type": "code",
   "execution_count": 8,
   "id": "ed4a2f34",
   "metadata": {},
   "outputs": [],
   "source": [
    "add=Address(\"Roorkee\",\"Uttarakhand\",\"India\")\n",
    "gurmeet=Customer(\"Gurmeet\",'246667',add)"
   ]
  },
  {
   "cell_type": "code",
   "execution_count": 9,
   "id": "b576bc9c",
   "metadata": {},
   "outputs": [
    {
     "name": "stdout",
     "output_type": "stream",
     "text": [
      "Name : Gurmeet\n",
      "Pin : 246667\n",
      " Address : Roorkee,Uttarakhand,India \n"
     ]
    }
   ],
   "source": [
    "print(gurmeet)"
   ]
  },
  {
   "cell_type": "code",
   "execution_count": null,
   "id": "19399c2e",
   "metadata": {},
   "outputs": [],
   "source": [
    "#representation of Aggregation in class Diagram <> "
   ]
  }
 ],
 "metadata": {
  "kernelspec": {
   "display_name": "Python 3",
   "language": "python",
   "name": "python3"
  },
  "language_info": {
   "codemirror_mode": {
    "name": "ipython",
    "version": 3
   },
   "file_extension": ".py",
   "mimetype": "text/x-python",
   "name": "python",
   "nbconvert_exporter": "python",
   "pygments_lexer": "ipython3",
   "version": "3.12.4"
  }
 },
 "nbformat": 4,
 "nbformat_minor": 5
}
