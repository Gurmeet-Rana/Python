{
 "cells": [
  {
   "cell_type": "code",
   "execution_count": null,
   "id": "2439155b",
   "metadata": {},
   "outputs": [],
   "source": [
    "# super class is the immediate parent class \n",
    "#Over riding - "
   ]
  },
  {
   "cell_type": "code",
   "execution_count": 5,
   "id": "d6bf134a",
   "metadata": {},
   "outputs": [],
   "source": [
    "class Book : \n",
    "    def __init__(self,title,author):\n",
    "        self.title=title\n",
    "        self.author=author\n",
    "    def __str__(self):\n",
    "        return 'Title - {}\\nAuthor - {}'.format(self.title,self.author)"
   ]
  },
  {
   "cell_type": "code",
   "execution_count": 6,
   "id": "4a5828bb",
   "metadata": {},
   "outputs": [],
   "source": [
    "cop=Book('Concepts of Physics Vol 1','HC Verma')"
   ]
  },
  {
   "cell_type": "code",
   "execution_count": 7,
   "id": "e8c06bb8",
   "metadata": {},
   "outputs": [
    {
     "name": "stdout",
     "output_type": "stream",
     "text": [
      "Title - Concepts of Physics Vol 1\n",
      "Author - HC Verma\n"
     ]
    }
   ],
   "source": [
    "print(cop)"
   ]
  },
  {
   "cell_type": "code",
   "execution_count": null,
   "id": "fab0c998",
   "metadata": {},
   "outputs": [],
   "source": []
  }
 ],
 "metadata": {
  "kernelspec": {
   "display_name": "Python 3",
   "language": "python",
   "name": "python3"
  },
  "language_info": {
   "codemirror_mode": {
    "name": "ipython",
    "version": 3
   },
   "file_extension": ".py",
   "mimetype": "text/x-python",
   "name": "python",
   "nbconvert_exporter": "python",
   "pygments_lexer": "ipython3",
   "version": "3.12.4"
  }
 },
 "nbformat": 4,
 "nbformat_minor": 5
}
