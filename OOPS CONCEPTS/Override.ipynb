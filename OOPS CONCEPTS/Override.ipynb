{
 "cells": [
  {
   "cell_type": "code",
   "execution_count": null,
   "id": "2439155b",
   "metadata": {},
   "outputs": [],
   "source": [
    "# super class is the immediate parent class \n",
    "#Over riding - "
   ]
  },
  {
   "cell_type": "code",
   "execution_count": 5,
   "id": "d6bf134a",
   "metadata": {},
   "outputs": [],
   "source": [
    "class Book : \n",
    "    def __init__(self,title,author):\n",
    "        self.title=title\n",
    "        self.author=author\n",
    "    def __str__(self):\n",
    "        return 'Title - {}\\nAuthor - {}'.format(self.title,self.author)"
   ]
  },
  {
   "cell_type": "code",
   "execution_count": 6,
   "id": "4a5828bb",
   "metadata": {},
   "outputs": [],
   "source": [
    "cop=Book('Concepts of Physics Vol 1','HC Verma')"
   ]
  },
  {
   "cell_type": "code",
   "execution_count": 7,
   "id": "e8c06bb8",
   "metadata": {},
   "outputs": [
    {
     "name": "stdout",
     "output_type": "stream",
     "text": [
      "Title - Concepts of Physics Vol 1\n",
      "Author - HC Verma\n"
     ]
    }
   ],
   "source": [
    "print(cop)"
   ]
  },
  {
   "cell_type": "code",
   "execution_count": 8,
   "id": "fab0c998",
   "metadata": {},
   "outputs": [],
   "source": [
    "class PaperBook(Book):\n",
    "    def __init__(self, title, author,pages):\n",
    "        super().__init__(title, author)\n",
    "        self.pages=pages\n",
    "    \n",
    "class EBook(Book):\n",
    "    def __init__(self, title, author,size):\n",
    "        super().__init__(title, author)\n",
    "        self.size=size\n",
    "    "
   ]
  },
  {
   "cell_type": "code",
   "execution_count": 17,
   "id": "464c8450",
   "metadata": {},
   "outputs": [],
   "source": [
    "class Library:\n",
    "    def __init__(self):\n",
    "        self.books=[]\n",
    "    def addBook(self,Book):\n",
    "        self.books.append(Book)\n",
    "    def getBooks(self):\n",
    "        for book in self.books:\n",
    "            print(book) \n",
    "            print('-------')"
   ]
  },
  {
   "cell_type": "code",
   "execution_count": 18,
   "id": "fd69ad49",
   "metadata": {},
   "outputs": [],
   "source": [
    "lib=Library()"
   ]
  },
  {
   "cell_type": "code",
   "execution_count": 19,
   "id": "62b4524a",
   "metadata": {},
   "outputs": [],
   "source": [
    "lib.addBook(Book('COP','HC VERMA'))\n",
    "lib.addBook(Book('Hands on ML','Irodov'))"
   ]
  },
  {
   "cell_type": "code",
   "execution_count": 20,
   "id": "dad708ac",
   "metadata": {},
   "outputs": [
    {
     "name": "stdout",
     "output_type": "stream",
     "text": [
      "Title - COP\n",
      "Author - HC VERMA\n",
      "-------\n",
      "Title - Hands on ML\n",
      "Author - Irodov\n",
      "-------\n"
     ]
    }
   ],
   "source": [
    "lib.getBooks()"
   ]
  },
  {
   "cell_type": "code",
   "execution_count": null,
   "id": "f37836b7",
   "metadata": {},
   "outputs": [],
   "source": []
  }
 ],
 "metadata": {
  "kernelspec": {
   "display_name": "Python 3",
   "language": "python",
   "name": "python3"
  },
  "language_info": {
   "codemirror_mode": {
    "name": "ipython",
    "version": 3
   },
   "file_extension": ".py",
   "mimetype": "text/x-python",
   "name": "python",
   "nbconvert_exporter": "python",
   "pygments_lexer": "ipython3",
   "version": "3.12.4"
  }
 },
 "nbformat": 4,
 "nbformat_minor": 5
}
