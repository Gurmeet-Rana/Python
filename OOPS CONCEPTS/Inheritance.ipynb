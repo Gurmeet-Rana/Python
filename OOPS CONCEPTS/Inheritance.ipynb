{
 "cells": [
  {
   "cell_type": "code",
   "execution_count": null,
   "id": "de5dd2d3",
   "metadata": {},
   "outputs": [],
   "source": [
    "#Makes our code re-usable , readable and concise .\n",
    "#"
   ]
  }
 ],
 "metadata": {
  "language_info": {
   "name": "python"
  }
 },
 "nbformat": 4,
 "nbformat_minor": 5
}
