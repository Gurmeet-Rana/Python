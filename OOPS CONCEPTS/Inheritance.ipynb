{
 "cells": [
  {
   "cell_type": "code",
   "execution_count": 1,
   "id": "de5dd2d3",
   "metadata": {},
   "outputs": [],
   "source": [
    "#Makes our code re-usable , readable and concise .\n",
    "#INHERITING VARIABLES AND METHODS "
   ]
  },
  {
   "cell_type": "code",
   "execution_count": null,
   "id": "6c142dc0",
   "metadata": {},
   "outputs": [],
   "source": [
    "CURRENT_YEAR=2025\n",
    "class Person : \n",
    "    def __init__(self,name,dob):\n",
    "        self.name=name\n",
    "        self.birth_year=dob\n",
    "    def getAge(self):\n",
    "        return CURRENT_YEAR-self.birth_year\n",
    "    def __str__(self):\n",
    "        return 'Name : {}\\nYear of Birth{}'.format(self.name,self.birth_year)"
   ]
  },
  {
   "cell_type": "code",
   "execution_count": 3,
   "id": "2cbb0875",
   "metadata": {},
   "outputs": [],
   "source": [
    "alice=Person('Alice',2004)"
   ]
  },
  {
   "cell_type": "code",
   "execution_count": 4,
   "id": "227c74d8",
   "metadata": {},
   "outputs": [
    {
     "data": {
      "text/plain": [
       "21"
      ]
     },
     "execution_count": 4,
     "metadata": {},
     "output_type": "execute_result"
    }
   ],
   "source": [
    "alice.getAge()"
   ]
  },
  {
   "cell_type": "code",
   "execution_count": null,
   "id": "153c95ab",
   "metadata": {},
   "outputs": [],
   "source": [
    "class Student(Person): \n",
    "    def __init__(self, name, dob,marks):\n",
    "        super().__init__(name, dob)\n",
    "        self.marks=marks\n",
    "    def __str__(self):\n",
    "        return '{} {} {}'.format(self.name,self.birth_year,self.marks) \n",
    "    "
   ]
  },
  {
   "cell_type": "code",
   "execution_count": 10,
   "id": "30a74c1c",
   "metadata": {},
   "outputs": [],
   "source": [
    "gurmeet=Student('Gurmeet',2004,100)"
   ]
  },
  {
   "cell_type": "code",
   "execution_count": 11,
   "id": "6ce5437d",
   "metadata": {},
   "outputs": [
    {
     "name": "stdout",
     "output_type": "stream",
     "text": [
      "Gurmeet 2004 100\n"
     ]
    }
   ],
   "source": [
    "print(gurmeet)"
   ]
  },
  {
   "cell_type": "code",
   "execution_count": null,
   "id": "9f71e45d",
   "metadata": {},
   "outputs": [],
   "source": []
  }
 ],
 "metadata": {
  "kernelspec": {
   "display_name": "Python 3",
   "language": "python",
   "name": "python3"
  },
  "language_info": {
   "codemirror_mode": {
    "name": "ipython",
    "version": 3
   },
   "file_extension": ".py",
   "mimetype": "text/x-python",
   "name": "python",
   "nbconvert_exporter": "python",
   "pygments_lexer": "ipython3",
   "version": "3.12.4"
  }
 },
 "nbformat": 4,
 "nbformat_minor": 5
}
