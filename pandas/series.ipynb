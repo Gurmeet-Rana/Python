{
 "cells": [
  {
   "cell_type": "markdown",
   "id": "c675a8a4",
   "metadata": {},
   "source": [
    "Pandas is a fast , powerful , and easy to use open source data analysis and manipulation tool , built on top of the python . \n",
    " "
   ]
  },
  {
   "cell_type": "code",
   "execution_count": 2,
   "id": "f7da515a",
   "metadata": {},
   "outputs": [],
   "source": [
    "\n",
    "import pandas as pd "
   ]
  },
  {
   "cell_type": "markdown",
   "id": "24a8e9d5",
   "metadata": {},
   "source": [
    "Pandas Series - It is a col in a table . It is a 1-D array holding data of any type .     "
   ]
  },
  {
   "cell_type": "code",
   "execution_count": 3,
   "id": "3da8c43c",
   "metadata": {},
   "outputs": [
    {
     "data": {
      "text/plain": [
       "0    India\n",
       "1    Pakis\n",
       "2       SL\n",
       "dtype: object"
      ]
     },
     "execution_count": 3,
     "metadata": {},
     "output_type": "execute_result"
    }
   ],
   "source": [
    "# Series from lists\n",
    "country=['India','Pakis','SL']\n",
    "pd.Series(country)"
   ]
  },
  {
   "cell_type": "code",
   "execution_count": 6,
   "id": "0ed3b4d5",
   "metadata": {},
   "outputs": [
    {
     "data": {
      "text/plain": [
       "Maths       99\n",
       "English     98\n",
       "Hindi      100\n",
       "dtype: int64"
      ]
     },
     "execution_count": 6,
     "metadata": {},
     "output_type": "execute_result"
    }
   ],
   "source": [
    "#integers\n",
    "\n",
    "nums=[100,3,4,5,6,101]\n",
    "pd.Series(nums)\n",
    "\n",
    "#custom index\n",
    "\n",
    "marks=[99,98,100]\n",
    "subjects=['Maths','English',\n",
    "          'Hindi']\n",
    "pd.Series(marks,index=subjects)"
   ]
  },
  {
   "cell_type": "code",
   "execution_count": null,
   "id": "6eb44ad8",
   "metadata": {},
   "outputs": [],
   "source": []
  }
 ],
 "metadata": {
  "kernelspec": {
   "display_name": "Python 3",
   "language": "python",
   "name": "python3"
  },
  "language_info": {
   "codemirror_mode": {
    "name": "ipython",
    "version": 3
   },
   "file_extension": ".py",
   "mimetype": "text/x-python",
   "name": "python",
   "nbconvert_exporter": "python",
   "pygments_lexer": "ipython3",
   "version": "3.12.4"
  }
 },
 "nbformat": 4,
 "nbformat_minor": 5
}
