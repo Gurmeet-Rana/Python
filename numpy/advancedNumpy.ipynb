{
 "cells": [
  {
   "cell_type": "code",
   "execution_count": 1,
   "id": "0be40f9e",
   "metadata": {},
   "outputs": [],
   "source": [
    "import numpy as np"
   ]
  },
  {
   "cell_type": "code",
   "execution_count": 3,
   "id": "342448b9",
   "metadata": {},
   "outputs": [
    {
     "data": {
      "text/plain": [
       "array([[ 0,  1,  2,  3,  4,  5,  6,  7,  8,  9],\n",
       "       [10, 11, 12, 13, 14, 15, 16, 17, 18, 19]])"
      ]
     },
     "execution_count": 3,
     "metadata": {},
     "output_type": "execute_result"
    }
   ],
   "source": [
    "np.arange(20).reshape(2,10)"
   ]
  },
  {
   "cell_type": "code",
   "execution_count": 3,
   "id": "ef20fbe8",
   "metadata": {},
   "outputs": [
    {
     "name": "stdout",
     "output_type": "stream",
     "text": [
      "2.675177574157715\n"
     ]
    }
   ],
   "source": [
    "#numpy vs list\n",
    "import time \n",
    "\n",
    "l1=[x for x in range(10000000)]\n",
    "l2=[x for x in range(10000000)]\n",
    "c=[]\n",
    "start=time.time()\n",
    "for i in range(10000000):\n",
    "    c.append(l1[i]+l2[i])\n",
    "print(time.time()-start)\n",
    "\n",
    "#speed\n",
    "\n",
    "#memory"
   ]
  },
  {
   "cell_type": "code",
   "execution_count": null,
   "id": "3e97f77c",
   "metadata": {},
   "outputs": [],
   "source": []
  }
 ],
 "metadata": {
  "kernelspec": {
   "display_name": "Python 3",
   "language": "python",
   "name": "python3"
  },
  "language_info": {
   "codemirror_mode": {
    "name": "ipython",
    "version": 3
   },
   "file_extension": ".py",
   "mimetype": "text/x-python",
   "name": "python",
   "nbconvert_exporter": "python",
   "pygments_lexer": "ipython3",
   "version": "3.12.4"
  }
 },
 "nbformat": 4,
 "nbformat_minor": 5
}
