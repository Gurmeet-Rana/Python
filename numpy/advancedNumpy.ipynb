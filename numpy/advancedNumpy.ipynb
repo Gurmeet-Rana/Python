{
 "cells": [
  {
   "cell_type": "code",
   "execution_count": 1,
   "id": "0be40f9e",
   "metadata": {},
   "outputs": [],
   "source": [
    "\n",
    "import numpy as np\n",
    "import time"
   ]
  },
  {
   "cell_type": "code",
   "execution_count": null,
   "id": "342448b9",
   "metadata": {},
   "outputs": [
    {
     "name": "stdout",
     "output_type": "stream",
     "text": [
      "0.04514026641845703\n"
     ]
    }
   ],
   "source": [
    "#numpy \n",
    "a=np.arange(10000000)\n",
    "b=np.arange(10000000,20000000)\n",
    "start=time.time()\n",
    "c=a+b\n",
    "print(time.time()-start)\n",
    "\n",
    "#list \n",
    "l1=[x for x in range(10000000)]\n",
    "l2=[x for x in range(10000000)]\n",
    "c=[]\n",
    "start=time.time()\n",
    "for i in range(10000000):\n",
    "    c.append(l1[i]+l2[i])\n",
    "print(time.time()-start)"
   ]
  },
  {
   "cell_type": "code",
   "execution_count": 4,
   "id": "ef20fbe8",
   "metadata": {},
   "outputs": [
    {
     "data": {
      "text/plain": [
       "89095160"
      ]
     },
     "execution_count": 4,
     "metadata": {},
     "output_type": "execute_result"
    }
   ],
   "source": [
    "#list vs numpy\n",
    "#speed -  numpy takes much lesser time as comp to list\n",
    "\n",
    "#numpy array has fixed size and non-referential \n",
    "\n",
    "\n",
    "#memory\n",
    "a=[i for i in range(10000000)]\n",
    "import sys \n",
    "sys.getsizeof(a)"
   ]
  },
  {
   "cell_type": "code",
   "execution_count": 5,
   "id": "3e97f77c",
   "metadata": {},
   "outputs": [
    {
     "data": {
      "text/plain": [
       "80000112"
      ]
     },
     "execution_count": 5,
     "metadata": {},
     "output_type": "execute_result"
    }
   ],
   "source": [
    "import numpy as np\n",
    "a=np.arange(10000000)\n",
    "sys.getsizeof(a)"
   ]
  },
  {
   "cell_type": "code",
   "execution_count": null,
   "id": "16fda63a",
   "metadata": {},
   "outputs": [],
   "source": [
    "# convenience of working in numpy \n"
   ]
  }
 ],
 "metadata": {
  "kernelspec": {
   "display_name": "Python 3",
   "language": "python",
   "name": "python3"
  },
  "language_info": {
   "codemirror_mode": {
    "name": "ipython",
    "version": 3
   },
   "file_extension": ".py",
   "mimetype": "text/x-python",
   "name": "python",
   "nbconvert_exporter": "python",
   "pygments_lexer": "ipython3",
   "version": "3.12.4"
  }
 },
 "nbformat": 4,
 "nbformat_minor": 5
}
