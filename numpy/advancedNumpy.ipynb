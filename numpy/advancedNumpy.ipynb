{
 "cells": [
  {
   "cell_type": "code",
   "execution_count": 1,
   "id": "0be40f9e",
   "metadata": {},
   "outputs": [],
   "source": [
    "\n",
    "import numpy as np\n",
    "import time"
   ]
  },
  {
   "cell_type": "code",
   "execution_count": null,
   "id": "342448b9",
   "metadata": {},
   "outputs": [
    {
     "name": "stdout",
     "output_type": "stream",
     "text": [
      "0.04514026641845703\n"
     ]
    }
   ],
   "source": [
    "#numpy \n",
    "a=np.arange(10000000)\n",
    "b=np.arange(10000000,20000000)\n",
    "start=time.time()\n",
    "c=a+b\n",
    "print(time.time()-start)\n",
    "\n",
    "#list \n",
    "l1=[x for x in range(10000000)]\n",
    "l2=[x for x in range(10000000)]\n",
    "c=[]\n",
    "start=time.time()\n",
    "for i in range(10000000):\n",
    "    c.append(l1[i]+l2[i])\n",
    "print(time.time()-start)"
   ]
  },
  {
   "cell_type": "code",
   "execution_count": 4,
   "id": "ef20fbe8",
   "metadata": {},
   "outputs": [
    {
     "data": {
      "text/plain": [
       "89095160"
      ]
     },
     "execution_count": 4,
     "metadata": {},
     "output_type": "execute_result"
    }
   ],
   "source": [
    "#list vs numpy\n",
    "#speed -  numpy takes much lesser time as comp to list\n",
    "\n",
    "#numpy array has fixed size and non-referential \n",
    "\n",
    "\n",
    "#memory\n",
    "a=[i for i in range(10000000)]\n",
    "import sys \n",
    "sys.getsizeof(a)"
   ]
  },
  {
   "cell_type": "code",
   "execution_count": 5,
   "id": "3e97f77c",
   "metadata": {},
   "outputs": [
    {
     "data": {
      "text/plain": [
       "80000112"
      ]
     },
     "execution_count": 5,
     "metadata": {},
     "output_type": "execute_result"
    }
   ],
   "source": [
    "import numpy as np\n",
    "a=np.arange(10000000)\n",
    "sys.getsizeof(a)"
   ]
  },
  {
   "cell_type": "code",
   "execution_count": 6,
   "id": "16fda63a",
   "metadata": {},
   "outputs": [
    {
     "data": {
      "text/plain": [
       "array([[82, 85, 95, 64],\n",
       "       [17, 76, 74, 45],\n",
       "       [86,  8, 13, 59],\n",
       "       [71,  4, 44, 16],\n",
       "       [22,  3,  9, 73],\n",
       "       [70, 56,  7, 35]], dtype=int32)"
      ]
     },
     "execution_count": 6,
     "metadata": {},
     "output_type": "execute_result"
    }
   ],
   "source": [
    "# convenience of working in numpy \n",
    "\n",
    "#Advaned Indexing \n",
    "a=np.random.randint(1,100,24).reshape(6,4)\n",
    "a"
   ]
  },
  {
   "cell_type": "code",
   "execution_count": null,
   "id": "03af469a",
   "metadata": {},
   "outputs": [
    {
     "data": {
      "text/plain": [
       "array([[82, 95, 64],\n",
       "       [17, 74, 45],\n",
       "       [86, 13, 59],\n",
       "       [71, 44, 16],\n",
       "       [22,  9, 73],\n",
       "       [70,  7, 35]], dtype=int32)"
      ]
     },
     "execution_count": 9,
     "metadata": {},
     "output_type": "execute_result"
    }
   ],
   "source": [
    "#Fancy Indexing \n",
    "\n",
    "# extract (1,3,4)th row \n",
    "indices=[1,3,4]\n",
    "a[indices]\n",
    "\n",
    "a[:,[0,2,3\n",
    "     ]]\n",
    "\n"
   ]
  },
  {
   "cell_type": "code",
   "execution_count": 15,
   "id": "2a761d03",
   "metadata": {},
   "outputs": [
    {
     "data": {
      "text/plain": [
       "array([82, 64, 76, 74, 86, 70, 56], dtype=int32)"
      ]
     },
     "execution_count": 15,
     "metadata": {},
     "output_type": "execute_result"
    }
   ],
   "source": [
    "#Boolean Indexing - to extract indices that are logially extracted \n",
    "\n",
    "#find all numbers>50\n",
    "a[a>50]\n",
    "#find all even numbers \n",
    "a[a%2==0]\n",
    "\n",
    "# find all numbers>50 and even \n",
    "a[(a>50) & (a%2==0 )]\n",
    "\n",
    "#find all\n",
    "\n"
   ]
  },
  {
   "cell_type": "code",
   "execution_count": 18,
   "id": "fd720032",
   "metadata": {},
   "outputs": [
    {
     "data": {
      "text/plain": [
       "array([[0, 2, 4],\n",
       "       [3, 5, 7]])"
      ]
     },
     "execution_count": 18,
     "metadata": {},
     "output_type": "execute_result"
    }
   ],
   "source": [
    "#BroadCasting desc how numpy treats array with diff shapes during arithmetic operations \n",
    "# The smaller array is \"broadcast\" accross larger array so that they have compatible shapes\n",
    "a=np.arange(6).reshape(2,3)\n",
    "b=np.arange(3).reshape(1,3)\n",
    "a+b"
   ]
  },
  {
   "cell_type": "markdown",
   "id": "7e2093a4",
   "metadata": {},
   "source": [
    "BROADCASTING RULES \n",
    "r1 -> MAKE THE TWO ARRAYS HAVE THE SAME DIMENSIONS(if the no of dimensions r diff, add new dimensions with size 1 to the head of the arr with the samller dimension )\n",
    "\n",
    "r2-> MAKE EACH DIMENSION OF THE ARR THE SAME SIZE(if the sizes of each dimension of the two arr don't match , dimensions with size 1 r stretched to the size of the other arr , IF there is a dimension whose size!=1 in either of the two arr , it can't be broadcasted and en err is raised )"
   ]
  },
  {
   "cell_type": "code",
   "execution_count": null,
   "id": "c0b4c8a3",
   "metadata": {},
   "outputs": [],
   "source": []
  },
  {
   "cell_type": "code",
   "execution_count": null,
   "id": "1b56db75",
   "metadata": {},
   "outputs": [],
   "source": []
  }
 ],
 "metadata": {
  "kernelspec": {
   "display_name": "Python 3",
   "language": "python",
   "name": "python3"
  },
  "language_info": {
   "codemirror_mode": {
    "name": "ipython",
    "version": 3
   },
   "file_extension": ".py",
   "mimetype": "text/x-python",
   "name": "python",
   "nbconvert_exporter": "python",
   "pygments_lexer": "ipython3",
   "version": "3.12.4"
  }
 },
 "nbformat": 4,
 "nbformat_minor": 5
}
