{
 "cells": [
  {
   "cell_type": "markdown",
   "id": "be403bdc",
   "metadata": {},
   "source": [
    "NUMPY TRICKS"
   ]
  },
  {
   "cell_type": "code",
   "execution_count": 3,
   "id": "21579975",
   "metadata": {},
   "outputs": [],
   "source": [
    "import numpy as np \n",
    "import matplotlib.pyplot as plt"
   ]
  },
  {
   "cell_type": "code",
   "execution_count": 9,
   "id": "f6c27d67",
   "metadata": {},
   "outputs": [
    {
     "data": {
      "text/plain": [
       "[<matplotlib.lines.Line2D at 0x1c578923500>]"
      ]
     },
     "execution_count": 9,
     "metadata": {},
     "output_type": "execute_result"
    },
    {
     "data": {
      "image/png": "[encoded data removed]",
      "text/plain": [
       "<Figure size 640x480 with 1 Axes>"
      ]
     },
     "metadata": {},
     "output_type": "display_data"
    }
   ],
   "source": [
    "x=np.arange(1,100)\n",
    "y=np.log(x)\n",
    "plt.plot(y,)"
   ]
  },
  {
   "cell_type": "markdown",
   "id": "c94e0022",
   "metadata": {},
   "source": [
    "np.sort(arrayName,axis=, kind='quicksort etc',order) - Returns a sorted copy of an array , could have used sorted() also but sorted always returns a list and np.sort returns a numpy array "
   ]
  },
  {
   "cell_type": "code",
   "execution_count": 24,
   "id": "67979fd0",
   "metadata": {},
   "outputs": [
    {
     "name": "stdout",
     "output_type": "stream",
     "text": [
      "[ 3  4  8  9 13 15 15 16 18 20 21 21 22 23 23 31 32 33 37 37 38 39 39 39\n",
      " 40 40 44 46 48 61 62 63 65 66 67 68 68 74 74 76 79 84 86 87 88 90 94 96\n",
      " 98 99]\n"
     ]
    }
   ],
   "source": [
    "a=np.random.randint(1,100,50)\n",
    "a=np.sort(a) # use ap.sort(a)[::-1] to sort in desc order \n",
    "print(a)\n",
    "\n"
   ]
  },
  {
   "cell_type": "code",
   "execution_count": 25,
   "id": "fe621955",
   "metadata": {},
   "outputs": [],
   "source": [
    "b=np.random.randint(1,100,24).reshape(6,4)\n",
    "b=np.sort(b) # row wise sorted \n",
    "b=np.sort(b,axis=0) # col wise sorted "
   ]
  },
  {
   "cell_type": "markdown",
   "id": "de79e1d2",
   "metadata": {},
   "source": [
    "np.append - appends the element along the given axis at the end of the array "
   ]
  },
  {
   "cell_type": "code",
   "execution_count": 31,
   "id": "65fa4bd5",
   "metadata": {},
   "outputs": [
    {
     "data": {
      "text/plain": [
       "array([[ 5., 31., 50., 86.,  1.],\n",
       "       [ 9., 55., 63., 87.,  1.],\n",
       "       [18., 59., 68., 91.,  1.],\n",
       "       [44., 69., 74., 93.,  1.],\n",
       "       [47., 69., 87., 96.,  1.],\n",
       "       [60., 79., 94., 97.,  1.]])"
      ]
     },
     "execution_count": 31,
     "metadata": {},
     "output_type": "execute_result"
    }
   ],
   "source": [
    "np.append(a,200)\n",
    "np.append(b,np.ones((b.shape[0],1)),axis=1)"
   ]
  },
  {
   "cell_type": "code",
   "execution_count": null,
   "id": "1911f920",
   "metadata": {},
   "outputs": [],
   "source": []
  },
  {
   "cell_type": "markdown",
   "id": "c67c5cf7",
   "metadata": {},
   "source": [
    "np.concatenate - concatenate a seq along the given axis"
   ]
  },
  {
   "cell_type": "code",
   "execution_count": 37,
   "id": "4ab7ecee",
   "metadata": {},
   "outputs": [
    {
     "name": "stdout",
     "output_type": "stream",
     "text": [
      "[[0 1 2]\n",
      " [3 4 5]]\n",
      "[[ 6  7  8]\n",
      " [ 9 10 11]]\n"
     ]
    },
    {
     "data": {
      "text/plain": [
       "array([[ 0,  1,  2],\n",
       "       [ 3,  4,  5],\n",
       "       [ 6,  7,  8],\n",
       "       [ 9, 10, 11]])"
      ]
     },
     "execution_count": 37,
     "metadata": {},
     "output_type": "execute_result"
    }
   ],
   "source": [
    "c=np.arange(6).reshape(2,3)\n",
    "d=np.arange(6,12).reshape(2,3)\n",
    "print(c)\n",
    "print(d)\n",
    "\n",
    "np.concat((c,d),axis=0) # 0 for row"
   ]
  },
  {
   "cell_type": "markdown",
   "id": "2fdd9b75",
   "metadata": {},
   "source": [
    "np.unique() - get uniq values of the given arra "
   ]
  },
  {
   "cell_type": "code",
   "execution_count": 38,
   "id": "2599b633",
   "metadata": {},
   "outputs": [
    {
     "name": "stdout",
     "output_type": "stream",
     "text": [
      "[1 2 3 4]\n"
     ]
    }
   ],
   "source": [
    "e=np.array([1,2,3,2,3,2,4,2])\n",
    "print(np.unique(e))"
   ]
  },
  {
   "cell_type": "markdown",
   "id": "fd6232de",
   "metadata": {},
   "source": [
    "numpy.expand_dims - we can get the expanded dimensions of an array"
   ]
  },
  {
   "cell_type": "code",
   "execution_count": 42,
   "id": "ba0482f1",
   "metadata": {},
   "outputs": [
    {
     "data": {
      "text/plain": [
       "array([[ 3,  4,  8,  9, 13, 15, 15, 16, 18, 20, 21, 21, 22, 23, 23, 31,\n",
       "        32, 33, 37, 37, 38, 39, 39, 39, 40, 40, 44, 46, 48, 61, 62, 63,\n",
       "        65, 66, 67, 68, 68, 74, 74, 76, 79, 84, 86, 87, 88, 90, 94, 96,\n",
       "        98, 99]], dtype=int32)"
      ]
     },
     "execution_count": 42,
     "metadata": {},
     "output_type": "execute_result"
    }
   ],
   "source": [
    "a\n",
    "np.expand_dims(a,axis=0) # 0 for row , this fn is used to give input in mls "
   ]
  },
  {
   "cell_type": "markdown",
   "id": "da1b749a",
   "metadata": {},
   "source": [
    "np.where() - Returns the indices of elements in an input array where the given conditions are satisfied"
   ]
  },
  {
   "cell_type": "code",
   "execution_count": 6,
   "id": "ae145c0b",
   "metadata": {},
   "outputs": [
    {
     "data": {
      "text/plain": [
       "array([43, 34,  0,  0,  0, 53,  3, 44,  0, 46, 42,  0,  0, 32, 38],\n",
       "      dtype=int32)"
      ]
     },
     "execution_count": 6,
     "metadata": {},
     "output_type": "execute_result"
    }
   ],
   "source": [
    "import numpy as np\n",
    "a=np.random.randint(1,100,15)\n",
    "np.where(a>50) # find all indices with value greater than 50\n",
    "\n",
    "#replace all values > 50 with 0 \n",
    "\n",
    "np.where(a>60,0,a)\n"
   ]
  },
  {
   "cell_type": "markdown",
   "id": "91b51007",
   "metadata": {},
   "source": [
    "np.argmax() -  returns indices of the maximum element of the array in a particular axis"
   ]
  },
  {
   "cell_type": "code",
   "execution_count": 9,
   "id": "fa937654",
   "metadata": {},
   "outputs": [
    {
     "name": "stdout",
     "output_type": "stream",
     "text": [
      "[[ 2 37]\n",
      " [75 47]\n",
      " [56 99]\n",
      " [80 23]\n",
      " [37 12]]\n"
     ]
    },
    {
     "data": {
      "text/plain": [
       "array([3, 2])"
      ]
     },
     "execution_count": 9,
     "metadata": {},
     "output_type": "execute_result"
    }
   ],
   "source": [
    "a=np.random.randint(1,100,10).reshape(5,2)\n",
    "print(a)\n",
    "np.argmax(a,axis=0)"
   ]
  },
  {
   "cell_type": "markdown",
   "id": "4c044ba5",
   "metadata": {},
   "source": [
    "np.percentile () "
   ]
  },
  {
   "cell_type": "code",
   "execution_count": 14,
   "id": "2fa0bffb",
   "metadata": {},
   "outputs": [
    {
     "data": {
      "text/plain": [
       "np.float64(42.0)"
      ]
     },
     "execution_count": 14,
     "metadata": {},
     "output_type": "execute_result"
    }
   ],
   "source": [
    "np.percentile(a,50)"
   ]
  },
  {
   "cell_type": "markdown",
   "id": "294913e2",
   "metadata": {},
   "source": [
    "np.histogram() "
   ]
  },
  {
   "cell_type": "code",
   "execution_count": 15,
   "id": "b1ac75cf",
   "metadata": {},
   "outputs": [
    {
     "data": {
      "text/plain": [
       "(array([1, 1, 1, 2, 1, 1, 0, 1, 1, 1]),\n",
       " array([  0,  10,  20,  30,  40,  50,  60,  70,  80,  90, 100]))"
      ]
     },
     "execution_count": 15,
     "metadata": {},
     "output_type": "execute_result"
    }
   ],
   "source": [
    "np.histogram(a,bins=[0,10,20,30,40,50,60,70,80,90,100])"
   ]
  },
  {
   "cell_type": "markdown",
   "id": "a12565e0",
   "metadata": {},
   "source": [
    "np.corrcoef - Return Pearson product - moment correlation coefficients  "
   ]
  },
  {
   "cell_type": "code",
   "execution_count": 16,
   "id": "7e80c05d",
   "metadata": {},
   "outputs": [
    {
     "data": {
      "text/plain": [
       "array([[1.        , 0.95746162],\n",
       "       [0.95746162, 1.        ]])"
      ]
     },
     "execution_count": 16,
     "metadata": {},
     "output_type": "execute_result"
    }
   ],
   "source": [
    "salary = np.array([2000,4000,2500,3500,6000])\n",
    "experience=np.array([1,3,2,2,4])\n",
    "np.corrcoef(salary,experience)"
   ]
  },
  {
   "cell_type": "markdown",
   "id": "86057089",
   "metadata": {},
   "source": [
    "np.isin - we can see multiple items in the array  "
   ]
  },
  {
   "cell_type": "code",
   "execution_count": 18,
   "id": "946f4642",
   "metadata": {},
   "outputs": [
    {
     "data": {
      "text/plain": [
       "array([2], dtype=int32)"
      ]
     },
     "execution_count": 18,
     "metadata": {},
     "output_type": "execute_result"
    }
   ],
   "source": [
    "items=[1,2,3,4,5,6]\n",
    "a[np.isin(a,items)]"
   ]
  },
  {
   "cell_type": "markdown",
   "id": "20b1e563",
   "metadata": {},
   "source": [
    " np.flip - reverses the order of array elements along the specified axis "
   ]
  },
  {
   "cell_type": "code",
   "execution_count": 20,
   "id": "27a8b856",
   "metadata": {},
   "outputs": [
    {
     "name": "stdout",
     "output_type": "stream",
     "text": [
      "[[ 2 37]\n",
      " [75 47]\n",
      " [56 99]\n",
      " [80 23]\n",
      " [37 12]]\n"
     ]
    },
    {
     "data": {
      "text/plain": [
       "array([[12, 37],\n",
       "       [23, 80],\n",
       "       [99, 56],\n",
       "       [47, 75],\n",
       "       [37,  2]], dtype=int32)"
      ]
     },
     "execution_count": 20,
     "metadata": {},
     "output_type": "execute_result"
    }
   ],
   "source": [
    "print(a)\n",
    "np.flip(a)"
   ]
  },
  {
   "cell_type": "markdown",
   "id": "cd441768",
   "metadata": {},
   "source": [
    "np.put() - replaces speicific elements of an array with given values of p_array . Array indexed works on flattened array . "
   ]
  },
  {
   "cell_type": "code",
   "execution_count": 22,
   "id": "c0daca85",
   "metadata": {},
   "outputs": [
    {
     "data": {
      "text/plain": [
       "array([[11, 53],\n",
       "       [75, 47],\n",
       "       [56, 99],\n",
       "       [80, 23],\n",
       "       [37, 12]], dtype=int32)"
      ]
     },
     "execution_count": 22,
     "metadata": {},
     "output_type": "execute_result"
    }
   ],
   "source": [
    "np.put(a,[0,1],[11,53])\n",
    "a"
   ]
  },
  {
   "cell_type": "markdown",
   "id": "2782a1b1",
   "metadata": {},
   "source": [
    "np.delete - returns a new arr wit the deletion of subarrays along with the  mentioned axis"
   ]
  },
  {
   "cell_type": "code",
   "execution_count": 3,
   "id": "70477912",
   "metadata": {},
   "outputs": [],
   "source": [
    "import numpy as np \n",
    "a=np.random.randint(1,100,50)"
   ]
  },
  {
   "cell_type": "code",
   "execution_count": 7,
   "id": "aaa8cb44",
   "metadata": {},
   "outputs": [
    {
     "data": {
      "text/plain": [
       "array([28, 13, 70, 86, 81,  1, 93, 31, 26, 32, 85, 49, 45, 84, 84, 49, 60,\n",
       "       65,  5, 79, 64, 51, 54,  7, 91, 34, 33, 15, 12, 59, 63, 22, 92, 93,\n",
       "       83, 56, 46, 11, 26, 61, 26, 80, 37, 94,  4, 96, 46], dtype=int32)"
      ]
     },
     "execution_count": 7,
     "metadata": {},
     "output_type": "execute_result"
    }
   ],
   "source": [
    "np.delete(a,2) # it takes index \n",
    "\n",
    "#delete multiple items \n",
    "np.delete(a,[0,2,4])"
   ]
  },
  {
   "cell_type": "markdown",
   "id": "e2a82f46",
   "metadata": {},
   "source": [
    "Set Functions \n",
    "-> np.union1d\n",
    "-> np.intersect1d\n",
    "-> np.setdiff1d\n",
    "-> np.setxor1d\n",
    "-> np.in1d\n"
   ]
  },
  {
   "cell_type": "markdown",
   "id": "2ea86a08",
   "metadata": {},
   "source": [
    "np.clip - used to clip (limit) values in an array"
   ]
  },
  {
   "cell_type": "code",
   "execution_count": 8,
   "id": "82ab14b3",
   "metadata": {},
   "outputs": [
    {
     "data": {
      "text/plain": [
       "array([67, 28, 25, 25, 75, 70, 75, 75, 25, 75, 31, 26, 32, 75, 49, 45, 75,\n",
       "       75, 49, 60, 65, 25, 75, 64, 51, 54, 25, 75, 34, 33, 25, 25, 59, 63,\n",
       "       25, 75, 75, 75, 56, 46, 25, 26, 61, 26, 75, 37, 75, 25, 75, 46],\n",
       "      dtype=int32)"
      ]
     },
     "execution_count": 8,
     "metadata": {},
     "output_type": "execute_result"
    }
   ],
   "source": [
    "np.clip(a,a_min=25,a_max=75)"
   ]
  },
  {
   "cell_type": "code",
   "execution_count": null,
   "id": "627b5538",
   "metadata": {},
   "outputs": [],
   "source": []
  }
 ],
 "metadata": {
  "kernelspec": {
   "display_name": "Python 3",
   "language": "python",
   "name": "python3"
  },
  "language_info": {
   "codemirror_mode": {
    "name": "ipython",
    "version": 3
   },
   "file_extension": ".py",
   "mimetype": "text/x-python",
   "name": "python",
   "nbconvert_exporter": "python",
   "pygments_lexer": "ipython3",
   "version": "3.12.4"
  }
 },
 "nbformat": 4,
 "nbformat_minor": 5
}
