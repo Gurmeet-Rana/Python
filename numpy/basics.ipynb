{
 "cells": [
  {
   "cell_type": "code",
   "execution_count": null,
   "id": "15e8fa73",
   "metadata": {},
   "outputs": [],
   "source": [
    "import numpy as np\n",
    "# it is a fundamental package for scientific computing in python . \n",
    "# It is a py lib that provides multi dim obj various derived objets(such as masked arrays and matrices) and an asortment of routines for fast operations on arrays including mathematical , logical , shape manip , sorting ,selecting ,I/O, etc \n",
    "#numpy arrays vs other seq\n",
    "#-> np.array is of fixed size , changing its size will create a new array and del the org\n",
    "#-> its eles r req to be of the same data type\n",
    "#-> facilitates adv math oper . more efficiently \n",
    "\n",
    "  "
   ]
  },
  {
   "cell_type": "code",
   "execution_count": 2,
   "id": "70ff78c0",
   "metadata": {},
   "outputs": [
    {
     "data": {
      "text/plain": [
       "numpy.ndarray"
      ]
     },
     "execution_count": 2,
     "metadata": {},
     "output_type": "execute_result"
    }
   ],
   "source": [
    "L=[1,2,3,5]\n",
    "arr=np.array(L)\n",
    "\n",
    "type(arr)"
   ]
  },
  {
   "cell_type": "code",
   "execution_count": 4,
   "id": "a042a51c",
   "metadata": {},
   "outputs": [
    {
     "data": {
      "text/plain": [
       "numpy.ndarray"
      ]
     },
     "execution_count": 4,
     "metadata": {},
     "output_type": "execute_result"
    }
   ],
   "source": [
    "# 2D , 3D ARRAYS\n",
    "L=[[1,2,3],[3,4,5]]\n",
    "brr=np.array(L)\n",
    "type(brr)"
   ]
  },
  {
   "cell_type": "code",
   "execution_count": 5,
   "id": "9f7d0808",
   "metadata": {},
   "outputs": [
    {
     "data": {
      "text/plain": [
       "array([1., 2., 3.])"
      ]
     },
     "execution_count": 5,
     "metadata": {},
     "output_type": "execute_result"
    }
   ],
   "source": [
    "np.array([1,2,3],dtype=float)"
   ]
  },
  {
   "cell_type": "code",
   "execution_count": 7,
   "id": "5440bbf7",
   "metadata": {},
   "outputs": [
    {
     "data": {
      "text/plain": [
       "array([ 1,  6, 11, 16, 21, 26, 31, 36, 41, 46, 51, 56, 61, 66, 71, 76, 81,\n",
       "       86, 91, 96])"
      ]
     },
     "execution_count": 7,
     "metadata": {},
     "output_type": "execute_result"
    }
   ],
   "source": [
    "#np.arange , a range\n",
    "np.arange(1,100,5)"
   ]
  },
  {
   "cell_type": "code",
   "execution_count": null,
   "id": "bbab457c",
   "metadata": {},
   "outputs": [],
   "source": [
    "#with reshape"
   ]
  }
 ],
 "metadata": {
  "kernelspec": {
   "display_name": "Python 3",
   "language": "python",
   "name": "python3"
  },
  "language_info": {
   "codemirror_mode": {
    "name": "ipython",
    "version": 3
   },
   "file_extension": ".py",
   "mimetype": "text/x-python",
   "name": "python",
   "nbconvert_exporter": "python",
   "pygments_lexer": "ipython3",
   "version": "3.12.4"
  }
 },
 "nbformat": 4,
 "nbformat_minor": 5
}
