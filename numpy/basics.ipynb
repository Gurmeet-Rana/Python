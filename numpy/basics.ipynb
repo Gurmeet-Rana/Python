{
 "cells": [
  {
   "cell_type": "code",
   "execution_count": null,
   "id": "15e8fa73",
   "metadata": {},
   "outputs": [],
   "source": [
    "import numpy as np\n",
    "# it is a fundamental package for scientific computing in python . \n",
    "# It is a py lib that provides multi dim obj various derived objets(such as masked arrays and matrices) and an asortment of routines for fast operations on arrays including mathematical , logical , shape manip , sorting ,selecting ,I/O, etc \n",
    "  "
   ]
  },
  {
   "cell_type": "code",
   "execution_count": null,
   "id": "70ff78c0",
   "metadata": {},
   "outputs": [],
   "source": []
  }
 ],
 "metadata": {
  "kernelspec": {
   "display_name": "Python 3",
   "language": "python",
   "name": "python3"
  },
  "language_info": {
   "codemirror_mode": {
    "name": "ipython",
    "version": 3
   },
   "file_extension": ".py",
   "mimetype": "text/x-python",
   "name": "python",
   "nbconvert_exporter": "python",
   "pygments_lexer": "ipython3",
   "version": "3.12.4"
  }
 },
 "nbformat": 4,
 "nbformat_minor": 5
}
