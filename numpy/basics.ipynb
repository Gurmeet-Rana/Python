{
 "cells": [
  {
   "cell_type": "code",
   "execution_count": null,
   "id": "15e8fa73",
   "metadata": {},
   "outputs": [],
   "source": [
    "import numpy as np\n",
    "# it is a fundamental package for scientific computing in python . \n",
    "# It is a py lib that provides multi dim obj various derived objets(such as masked arrays and matrices) and an asortment of routines for fast operations on arrays including mathematical , logical , shape manip , sorting ,selecting ,I/O, etc \n",
    "#numpy arrays vs other seq\n",
    "#-> np.array is of fixed size , changing its size will create a new array and del the org\n",
    "#-> its eles r req to be of the same data type\n",
    "#-> facilitates adv math oper . more efficiently \n",
    "\n",
    "  "
   ]
  },
  {
   "cell_type": "code",
   "execution_count": 2,
   "id": "70ff78c0",
   "metadata": {},
   "outputs": [
    {
     "data": {
      "text/plain": [
       "numpy.ndarray"
      ]
     },
     "execution_count": 2,
     "metadata": {},
     "output_type": "execute_result"
    }
   ],
   "source": [
    "L=[1,2,3,5]\n",
    "arr=np.array(L)\n",
    "\n",
    "type(arr)"
   ]
  },
  {
   "cell_type": "code",
   "execution_count": 4,
   "id": "a042a51c",
   "metadata": {},
   "outputs": [
    {
     "data": {
      "text/plain": [
       "numpy.ndarray"
      ]
     },
     "execution_count": 4,
     "metadata": {},
     "output_type": "execute_result"
    }
   ],
   "source": [
    "# 2D , 3D ARRAYS\n",
    "L=[[1,2,3],[3,4,5]]\n",
    "brr=np.array(L)\n",
    "type(brr)"
   ]
  },
  {
   "cell_type": "code",
   "execution_count": 5,
   "id": "9f7d0808",
   "metadata": {},
   "outputs": [
    {
     "data": {
      "text/plain": [
       "array([1., 2., 3.])"
      ]
     },
     "execution_count": 5,
     "metadata": {},
     "output_type": "execute_result"
    }
   ],
   "source": [
    "np.array([1,2,3],dtype=float)"
   ]
  },
  {
   "cell_type": "code",
   "execution_count": 11,
   "id": "5440bbf7",
   "metadata": {},
   "outputs": [
    {
     "data": {
      "text/plain": [
       "array([[1, 2, 3],\n",
       "       [4, 5, 6]])"
      ]
     },
     "execution_count": 11,
     "metadata": {},
     "output_type": "execute_result"
    }
   ],
   "source": [
    "#np.arange , a range\n",
    "np.arange(1,100,5)\n",
    "\n",
    "#with reshape\n",
    "np.arange(1,7).reshape(2,3)"
   ]
  },
  {
   "cell_type": "code",
   "execution_count": null,
   "id": "bbab457c",
   "metadata": {},
   "outputs": [],
   "source": [
    "# np.ones and np.zeros-> used to init \n",
    "np.ones(3,4)"
   ]
  },
  {
   "cell_type": "code",
   "execution_count": 12,
   "id": "d058bffc",
   "metadata": {},
   "outputs": [
    {
     "data": {
      "text/plain": [
       "array([[0.93939077, 0.51448416, 0.99691791],\n",
       "       [0.41755071, 0.64764487, 0.38364503]])"
      ]
     },
     "execution_count": 12,
     "metadata": {},
     "output_type": "execute_result"
    }
   ],
   "source": [
    "# np.random.random()\n",
    "np.random.random((2,3))"
   ]
  },
  {
   "cell_type": "code",
   "execution_count": 14,
   "id": "e2cbb8cf",
   "metadata": {},
   "outputs": [
    {
     "data": {
      "text/plain": [
       "array([-10.        ,  -7.77777778,  -5.55555556,  -3.33333333,\n",
       "        -1.11111111,   1.11111111,   3.33333333,   5.55555556,\n",
       "         7.77777778,  10.        ])"
      ]
     },
     "execution_count": 14,
     "metadata": {},
     "output_type": "execute_result"
    }
   ],
   "source": [
    "#np.linspace -> from , to , count -> generates count number of points between start and end \n",
    "np.linspace(-10,10,10)"
   ]
  },
  {
   "cell_type": "code",
   "execution_count": 15,
   "id": "c5585d2c",
   "metadata": {},
   "outputs": [
    {
     "data": {
      "text/plain": [
       "array([[1., 0., 0.],\n",
       "       [0., 1., 0.],\n",
       "       [0., 0., 1.]])"
      ]
     },
     "execution_count": 15,
     "metadata": {},
     "output_type": "execute_result"
    }
   ],
   "source": [
    "#np.identity \n",
    "np.identity(3)"
   ]
  },
  {
   "cell_type": "markdown",
   "id": "729f62ec",
   "metadata": {},
   "source": [
    "ARRAY ATTRIBUTES"
   ]
  },
  {
   "cell_type": "code",
   "execution_count": null,
   "id": "a1532ee5",
   "metadata": {},
   "outputs": [],
   "source": [
    "a1=np.arange(10) # array\n",
    "a2=np.arange(12,dtype=float).reshape(3,4) #matrix\n",
    "a3=np.arange(8).reshape(2,2,2) #tensor\n",
    "\n"
   ]
  },
  {
   "cell_type": "code",
   "execution_count": 26,
   "id": "d62de61f",
   "metadata": {},
   "outputs": [
    {
     "data": {
      "text/plain": [
       "dtype('int64')"
      ]
     },
     "execution_count": 26,
     "metadata": {},
     "output_type": "execute_result"
    }
   ],
   "source": [
    "#ndim \n",
    "a1.ndim\n",
    "a2.ndim\n",
    "a3.ndim\n",
    "#shape\n",
    "a3.shape # output (kitne arrays ,(row,col))\n",
    "\n",
    "\n",
    "#size\n",
    "a3.size\n",
    "\n",
    "#itemsize , size of each item in memory\n",
    "a3.itemsize\n",
    "\n",
    "#dtype\n",
    "a3.dtype"
   ]
  },
  {
   "cell_type": "markdown",
   "id": "475c081b",
   "metadata": {},
   "source": [
    "CHANGING DATATYPE"
   ]
  },
  {
   "cell_type": "code",
   "execution_count": 27,
   "id": "647c3a22",
   "metadata": {},
   "outputs": [
    {
     "data": {
      "text/plain": [
       "array([[[0, 1],\n",
       "        [2, 3]],\n",
       "\n",
       "       [[4, 5],\n",
       "        [6, 7]]], dtype=int32)"
      ]
     },
     "execution_count": 27,
     "metadata": {},
     "output_type": "execute_result"
    }
   ],
   "source": [
    "# astype\n",
    "a3.astype(np.int32)"
   ]
  },
  {
   "cell_type": "markdown",
   "id": "298f8a33",
   "metadata": {},
   "source": [
    "ARRAY OPERATIONS"
   ]
  },
  {
   "cell_type": "code",
   "execution_count": 28,
   "id": "50eaf02d",
   "metadata": {},
   "outputs": [],
   "source": [
    "a1=np.arange(12).reshape(3,4)\n",
    "a2=np.arange(12,24).reshape(3,4)\n"
   ]
  },
  {
   "cell_type": "code",
   "execution_count": 32,
   "id": "b2ef8b55",
   "metadata": {},
   "outputs": [
    {
     "name": "stdout",
     "output_type": "stream",
     "text": [
      "[[ 48  54  60  66]\n",
      " [ 72  78  84  90]\n",
      " [ 96 102 108 114]]\n"
     ]
    }
   ],
   "source": [
    "#scalar operations \n",
    "\n",
    "\n",
    "\n",
    "#arithmetic\n",
    "a1=a1*2\n",
    "print(a1)"
   ]
  },
  {
   "cell_type": "code",
   "execution_count": null,
   "id": "a723880e",
   "metadata": {},
   "outputs": [],
   "source": []
  }
 ],
 "metadata": {
  "kernelspec": {
   "display_name": "Python 3",
   "language": "python",
   "name": "python3"
  },
  "language_info": {
   "codemirror_mode": {
    "name": "ipython",
    "version": 3
   },
   "file_extension": ".py",
   "mimetype": "text/x-python",
   "name": "python",
   "nbconvert_exporter": "python",
   "pygments_lexer": "ipython3",
   "version": "3.12.4"
  }
 },
 "nbformat": 4,
 "nbformat_minor": 5
}
