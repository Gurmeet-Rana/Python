{
 "cells": [
  {
   "cell_type": "code",
   "execution_count": null,
   "id": "15e8fa73",
   "metadata": {},
   "outputs": [],
   "source": [
    "import numpy as np\n",
    "# it is a fundamental package for scientific computing in python . \n",
    "# It is a py lib that provides multi dim obj various derived objets(such as masked arrays and matrices) and an asortment of routines for fast operations on arrays including mathematical , logical , shape manip , sorting ,selecting ,I/O, etc \n",
    "#numpy arrays vs other seq\n",
    "#-> np.array is of fixed size , changing its size will create a new array and del the org\n",
    "#-> its eles r req to be of the same data type\n",
    "#-> facilitates adv math oper . more efficiently \n",
    "\n",
    "  "
   ]
  },
  {
   "cell_type": "code",
   "execution_count": 2,
   "id": "70ff78c0",
   "metadata": {},
   "outputs": [
    {
     "data": {
      "text/plain": [
       "numpy.ndarray"
      ]
     },
     "execution_count": 2,
     "metadata": {},
     "output_type": "execute_result"
    }
   ],
   "source": [
    "L=[1,2,3,5]\n",
    "arr=np.array(L)\n",
    "\n",
    "type(arr)"
   ]
  },
  {
   "cell_type": "code",
   "execution_count": 4,
   "id": "a042a51c",
   "metadata": {},
   "outputs": [
    {
     "data": {
      "text/plain": [
       "numpy.ndarray"
      ]
     },
     "execution_count": 4,
     "metadata": {},
     "output_type": "execute_result"
    }
   ],
   "source": [
    "# 2D , 3D ARRAYS\n",
    "L=[[1,2,3],[3,4,5]]\n",
    "brr=np.array(L)\n",
    "type(brr)"
   ]
  },
  {
   "cell_type": "code",
   "execution_count": 5,
   "id": "9f7d0808",
   "metadata": {},
   "outputs": [
    {
     "data": {
      "text/plain": [
       "array([1., 2., 3.])"
      ]
     },
     "execution_count": 5,
     "metadata": {},
     "output_type": "execute_result"
    }
   ],
   "source": [
    "np.array([1,2,3],dtype=float)"
   ]
  },
  {
   "cell_type": "code",
   "execution_count": 11,
   "id": "5440bbf7",
   "metadata": {},
   "outputs": [
    {
     "data": {
      "text/plain": [
       "array([[1, 2, 3],\n",
       "       [4, 5, 6]])"
      ]
     },
     "execution_count": 11,
     "metadata": {},
     "output_type": "execute_result"
    }
   ],
   "source": [
    "#np.arange , a range\n",
    "np.arange(1,100,5)\n",
    "\n",
    "#with reshape\n",
    "np.arange(1,7).reshape(2,3)"
   ]
  },
  {
   "cell_type": "code",
   "execution_count": null,
   "id": "bbab457c",
   "metadata": {},
   "outputs": [],
   "source": [
    "# np.ones and np.zeros-> used to init \n",
    "np.ones(3,4)"
   ]
  },
  {
   "cell_type": "code",
   "execution_count": 12,
   "id": "d058bffc",
   "metadata": {},
   "outputs": [
    {
     "data": {
      "text/plain": [
       "array([[0.93939077, 0.51448416, 0.99691791],\n",
       "       [0.41755071, 0.64764487, 0.38364503]])"
      ]
     },
     "execution_count": 12,
     "metadata": {},
     "output_type": "execute_result"
    }
   ],
   "source": [
    "# np.random.random()\n",
    "np.random.random((2,3))"
   ]
  },
  {
   "cell_type": "code",
   "execution_count": 14,
   "id": "e2cbb8cf",
   "metadata": {},
   "outputs": [
    {
     "data": {
      "text/plain": [
       "array([-10.        ,  -7.77777778,  -5.55555556,  -3.33333333,\n",
       "        -1.11111111,   1.11111111,   3.33333333,   5.55555556,\n",
       "         7.77777778,  10.        ])"
      ]
     },
     "execution_count": 14,
     "metadata": {},
     "output_type": "execute_result"
    }
   ],
   "source": [
    "#np.linspace -> from , to , count -> generates count number of points between start and end \n",
    "np.linspace(-10,10,10)"
   ]
  },
  {
   "cell_type": "code",
   "execution_count": 15,
   "id": "c5585d2c",
   "metadata": {},
   "outputs": [
    {
     "data": {
      "text/plain": [
       "array([[1., 0., 0.],\n",
       "       [0., 1., 0.],\n",
       "       [0., 0., 1.]])"
      ]
     },
     "execution_count": 15,
     "metadata": {},
     "output_type": "execute_result"
    }
   ],
   "source": [
    "#np.identity \n",
    "np.identity(3)"
   ]
  },
  {
   "cell_type": "markdown",
   "id": "729f62ec",
   "metadata": {},
   "source": [
    "ARRAY ATTRIBUTES"
   ]
  },
  {
   "cell_type": "code",
   "execution_count": null,
   "id": "a1532ee5",
   "metadata": {},
   "outputs": [],
   "source": [
    "a1=np.arange(10) # array\n",
    "a2=np.arange(12,dtype=float).reshape(3,4) #matrix\n",
    "a3=np.arange(8).reshape(2,2,2) #tensor\n",
    "\n"
   ]
  },
  {
   "cell_type": "code",
   "execution_count": 26,
   "id": "d62de61f",
   "metadata": {},
   "outputs": [
    {
     "data": {
      "text/plain": [
       "dtype('int64')"
      ]
     },
     "execution_count": 26,
     "metadata": {},
     "output_type": "execute_result"
    }
   ],
   "source": [
    "#ndim \n",
    "a1.ndim\n",
    "a2.ndim\n",
    "a3.ndim\n",
    "#shape\n",
    "a3.shape # output (kitne arrays ,(row,col))\n",
    "\n",
    "\n",
    "#size\n",
    "a3.size\n",
    "\n",
    "#itemsize , size of each item in memory\n",
    "a3.itemsize\n",
    "\n",
    "#dtype\n",
    "a3.dtype"
   ]
  },
  {
   "cell_type": "markdown",
   "id": "475c081b",
   "metadata": {},
   "source": [
    "CHANGING DATATYPE"
   ]
  },
  {
   "cell_type": "code",
   "execution_count": 27,
   "id": "647c3a22",
   "metadata": {},
   "outputs": [
    {
     "data": {
      "text/plain": [
       "array([[[0, 1],\n",
       "        [2, 3]],\n",
       "\n",
       "       [[4, 5],\n",
       "        [6, 7]]], dtype=int32)"
      ]
     },
     "execution_count": 27,
     "metadata": {},
     "output_type": "execute_result"
    }
   ],
   "source": [
    "# astype\n",
    "a3.astype(np.int32)"
   ]
  },
  {
   "cell_type": "markdown",
   "id": "298f8a33",
   "metadata": {},
   "source": [
    "ARRAY OPERATIONS"
   ]
  },
  {
   "cell_type": "code",
   "execution_count": 28,
   "id": "50eaf02d",
   "metadata": {},
   "outputs": [],
   "source": [
    "a1=np.arange(12).reshape(3,4)\n",
    "a2=np.arange(12,24).reshape(3,4)\n"
   ]
  },
  {
   "cell_type": "code",
   "execution_count": null,
   "id": "b2ef8b55",
   "metadata": {},
   "outputs": [
    {
     "name": "stdout",
     "output_type": "stream",
     "text": [
      "[[192 216 240 264]\n",
      " [288 312 336 360]\n",
      " [384 408 432 456]]\n"
     ]
    },
    {
     "data": {
      "text/plain": [
       "array([[ True,  True,  True,  True],\n",
       "       [ True,  True,  True,  True],\n",
       "       [ True,  True,  True,  True]])"
      ]
     },
     "execution_count": 34,
     "metadata": {},
     "output_type": "execute_result"
    }
   ],
   "source": [
    "#scalar operations \n",
    "\n",
    "\n",
    "\n",
    "#arithmetic\n",
    "a1=a1*2\n",
    "print(a1)\n"
   ]
  },
  {
   "cell_type": "code",
   "execution_count": 35,
   "id": "a723880e",
   "metadata": {},
   "outputs": [
    {
     "data": {
      "text/plain": [
       "array([[204, 229, 254, 279],\n",
       "       [304, 329, 354, 379],\n",
       "       [404, 429, 454, 479]])"
      ]
     },
     "execution_count": 35,
     "metadata": {},
     "output_type": "execute_result"
    }
   ],
   "source": [
    "#vector operations\n",
    "\n",
    "#arithmetic\n",
    "a1+a2"
   ]
  },
  {
   "cell_type": "markdown",
   "id": "cfa413d6",
   "metadata": {},
   "source": [
    "ARRAY FUNCTIONS"
   ]
  },
  {
   "cell_type": "code",
   "execution_count": 39,
   "id": "f1b6faf9",
   "metadata": {},
   "outputs": [
    {
     "data": {
      "text/plain": [
       "array([[14.,  7., 91.],\n",
       "       [26., 33., 59.],\n",
       "       [21.,  9., 82.]])"
      ]
     },
     "execution_count": 39,
     "metadata": {},
     "output_type": "execute_result"
    }
   ],
   "source": [
    "a1=np.random.random((3,3))\n",
    "a1=np.round(a1*100)\n",
    "a1"
   ]
  },
  {
   "cell_type": "code",
   "execution_count": null,
   "id": "40cb3e5b",
   "metadata": {},
   "outputs": [
    {
     "data": {
      "text/plain": [
       "array([14.,  7., 59.])"
      ]
     },
     "execution_count": 42,
     "metadata": {},
     "output_type": "execute_result"
    }
   ],
   "source": [
    "#max , min ,sum ,product\n",
    "np.max(a1)\n",
    "np.min(a1)\n",
    "np.sum(a1)\n",
    "\n",
    "# find minimum of each row\n",
    "np.min(a1,axis=0) # 0 is column and 1 is row"
   ]
  },
  {
   "cell_type": "code",
   "execution_count": 43,
   "id": "a1c0404e",
   "metadata": {},
   "outputs": [
    {
     "data": {
      "text/plain": [
       "array([ 4.92160769, 11.81336343, 13.47425529])"
      ]
     },
     "execution_count": 43,
     "metadata": {},
     "output_type": "execute_result"
    }
   ],
   "source": [
    "# mean , median , std , var\n",
    "np.mean(a1,axis=0)\n",
    "np.median(a1,axis=0)\n",
    "np.std(a1,axis=0)"
   ]
  },
  {
   "cell_type": "code",
   "execution_count": 44,
   "id": "b9cafb0c",
   "metadata": {},
   "outputs": [
    {
     "data": {
      "text/plain": [
       "array([[0.99060736, 0.6569866 , 0.10598751],\n",
       "       [0.76255845, 0.99991186, 0.63673801],\n",
       "       [0.83665564, 0.41211849, 0.31322878]])"
      ]
     },
     "execution_count": 44,
     "metadata": {},
     "output_type": "execute_result"
    }
   ],
   "source": [
    "#trigonometric func\n",
    "np.sin(a1)"
   ]
  },
  {
   "cell_type": "code",
   "execution_count": 46,
   "id": "e8276668",
   "metadata": {},
   "outputs": [
    {
     "data": {
      "text/plain": [
       "array([[164, 203, 242, 281],\n",
       "       [200, 248, 296, 344],\n",
       "       [236, 293, 350, 407],\n",
       "       [272, 338, 404, 470]])"
      ]
     },
     "execution_count": 46,
     "metadata": {},
     "output_type": "execute_result"
    }
   ],
   "source": [
    "#dot product\n",
    "a2=np.arange(12).reshape(3,4)\n",
    "a3=np.arange(12,24).reshape(4,3)\n",
    "np.dot(a3,a2)"
   ]
  },
  {
   "cell_type": "code",
   "execution_count": 47,
   "id": "36e326af",
   "metadata": {},
   "outputs": [
    {
     "data": {
      "text/plain": [
       "array([[1.20260428e+06, 1.09663316e+03, 3.31740010e+39],\n",
       "       [1.95729609e+11, 2.14643580e+14, 4.20121040e+25],\n",
       "       [1.31881573e+09, 8.10308393e+03, 4.09399696e+35]])"
      ]
     },
     "execution_count": 47,
     "metadata": {},
     "output_type": "execute_result"
    }
   ],
   "source": [
    "#log and expo\n",
    "np.log(a1)\n",
    "np.exp(a1)"
   ]
  },
  {
   "cell_type": "code",
   "execution_count": null,
   "id": "80117e9f",
   "metadata": {},
   "outputs": [
    {
     "data": {
      "text/plain": [
       "array([[ 5., 44., 93.],\n",
       "       [80., 97., 63.]])"
      ]
     },
     "execution_count": 48,
     "metadata": {},
     "output_type": "execute_result"
    }
   ],
   "source": [
    "# round floor ceil\n",
    "np.round(np.random.random((2,3))*100)\n",
    "np.floor(np.random.random((2,3))*100)\n",
    "np.ceil(np.random.random((2,3))*100)\n"
   ]
  },
  {
   "cell_type": "code",
   "execution_count": 50,
   "id": "f4ee23cb",
   "metadata": {},
   "outputs": [],
   "source": [
    "#indexing and slicing\n",
    "a1=np.arange(10)\n",
    "a2=np.arange(12).reshape(3,4)\n",
    "a3=np.arange(8).reshape(2,2,2)"
   ]
  },
  {
   "cell_type": "code",
   "execution_count": 57,
   "id": "737b88aa",
   "metadata": {},
   "outputs": [
    {
     "data": {
      "text/plain": [
       "np.int64(0)"
      ]
     },
     "execution_count": 57,
     "metadata": {},
     "output_type": "execute_result"
    }
   ],
   "source": [
    "a2[1,2] # accessing the element in 2-D array\n",
    "a2[1,0]\n",
    "\n",
    "\n",
    "# accessing the 3-D Array\n",
    "a3[1,0,1] # array number , row , col\n",
    "a3\n",
    "a3[0,0,0]"
   ]
  },
  {
   "cell_type": "code",
   "execution_count": null,
   "id": "f223ffd6",
   "metadata": {},
   "outputs": [
    {
     "data": {
      "text/plain": [
       "array([2, 3, 4])"
      ]
     },
     "execution_count": 59,
     "metadata": {},
     "output_type": "execute_result"
    }
   ],
   "source": [
    "# slicing - can get multiples item together \n",
    "a1[2:5] \n"
   ]
  },
  {
   "cell_type": "code",
   "execution_count": 60,
   "id": "16580aab",
   "metadata": {},
   "outputs": [
    {
     "data": {
      "text/plain": [
       "array([0, 1, 2, 3])"
      ]
     },
     "execution_count": 60,
     "metadata": {},
     "output_type": "execute_result"
    }
   ],
   "source": [
    "a2[0,:]"
   ]
  },
  {
   "cell_type": "code",
   "execution_count": 61,
   "id": "976dfccf",
   "metadata": {},
   "outputs": [
    {
     "data": {
      "text/plain": [
       "array([ 2,  6, 10])"
      ]
     },
     "execution_count": 61,
     "metadata": {},
     "output_type": "execute_result"
    }
   ],
   "source": [
    "a2[:,2]"
   ]
  },
  {
   "cell_type": "code",
   "execution_count": null,
   "id": "c8d74351",
   "metadata": {},
   "outputs": [
    {
     "data": {
      "text/plain": [
       "array([[ 0,  3],\n",
       "       [ 8, 11]])"
      ]
     },
     "execution_count": 62,
     "metadata": {},
     "output_type": "execute_result"
    }
   ],
   "source": [
    "a2[::2,::3] "
   ]
  },
  {
   "cell_type": "code",
   "execution_count": 63,
   "id": "a8407d32",
   "metadata": {},
   "outputs": [
    {
     "data": {
      "text/plain": [
       "array([[4, 5],\n",
       "       [6, 7]])"
      ]
     },
     "execution_count": 63,
     "metadata": {},
     "output_type": "execute_result"
    }
   ],
   "source": [
    "a3[1]"
   ]
  },
  {
   "cell_type": "markdown",
   "id": "d321d4f1",
   "metadata": {},
   "source": [
    "ITERATING"
   ]
  },
  {
   "cell_type": "code",
   "execution_count": 65,
   "id": "e4cf922d",
   "metadata": {},
   "outputs": [
    {
     "name": "stdout",
     "output_type": "stream",
     "text": [
      "0 1 2 3 4 5 6 7 8 9 "
     ]
    }
   ],
   "source": [
    "for i in a1:\n",
    "    print(i,end=' ')"
   ]
  },
  {
   "cell_type": "code",
   "execution_count": null,
   "id": "427f31da",
   "metadata": {},
   "outputs": [
    {
     "name": "stdout",
     "output_type": "stream",
     "text": [
      "0 1 2 3 4 5 6 7 8 9 10 11 "
     ]
    }
   ],
   "source": [
    "for arr in a2:\n",
    "    for ele in arr : \n",
    "        print(ele,end=' ')\n",
    "    print('\\n')"
   ]
  },
  {
   "cell_type": "code",
   "execution_count": 69,
   "id": "0ca3f81d",
   "metadata": {},
   "outputs": [
    {
     "name": "stdout",
     "output_type": "stream",
     "text": [
      "0\n",
      "1\n",
      "2\n",
      "3\n",
      "4\n",
      "5\n",
      "6\n",
      "7\n"
     ]
    }
   ],
   "source": [
    "for i in np.nditer(a3):\n",
    "    print(i)"
   ]
  },
  {
   "cell_type": "code",
   "execution_count": 70,
   "id": "9d1a1b4c",
   "metadata": {},
   "outputs": [
    {
     "data": {
      "text/plain": [
       "array([[ 0,  4,  8],\n",
       "       [ 1,  5,  9],\n",
       "       [ 2,  6, 10],\n",
       "       [ 3,  7, 11]])"
      ]
     },
     "execution_count": 70,
     "metadata": {},
     "output_type": "execute_result"
    }
   ],
   "source": [
    "#Reshaping - reshape , transpose , ravel\n",
    "np.transpose(a2)"
   ]
  },
  {
   "cell_type": "code",
   "execution_count": null,
   "id": "b031f996",
   "metadata": {},
   "outputs": [
    {
     "data": {
      "text/plain": [
       "array([ 0,  1,  2,  3,  4,  5,  6,  7,  8,  9, 10, 11])"
      ]
     },
     "execution_count": 71,
     "metadata": {},
     "output_type": "execute_result"
    }
   ],
   "source": [
    "a2.ravel() # flatten mulit D array"
   ]
  },
  {
   "cell_type": "markdown",
   "id": "207f867a",
   "metadata": {},
   "source": [
    "STACKING"
   ]
  },
  {
   "cell_type": "code",
   "execution_count": 72,
   "id": "f39e2a93",
   "metadata": {},
   "outputs": [],
   "source": [
    "# if without printing you get to see the result , then that operation just return the array and donot permanently changes the original array "
   ]
  },
  {
   "cell_type": "code",
   "execution_count": null,
   "id": "a8b55cd8",
   "metadata": {},
   "outputs": [],
   "source": [
    "#horizontal stacking \n",
    "\n",
    "a1=np.random.random((5,10))\n",
    "a2=np.arange(51,101).reshape((5,10))\n",
    "\n",
    "np.hstack((a1,a2))\n",
    "\n",
    "#vertical stacking\n",
    "np.vstack((a1,a2))\n"
   ]
  },
  {
   "cell_type": "markdown",
   "id": "f44dd867",
   "metadata": {},
   "source": [
    "SPLITTING"
   ]
  },
  {
   "cell_type": "code",
   "execution_count": 83,
   "id": "36da5a34",
   "metadata": {},
   "outputs": [
    {
     "data": {
      "text/plain": [
       "[array([[0.83792671, 0.65021258, 0.57152535, 0.53171696, 0.867076  ],\n",
       "        [0.87297266, 0.22508385, 0.90475324, 0.50426049, 0.87121147],\n",
       "        [0.57528183, 0.93531944, 0.42793213, 0.89711871, 0.39683573],\n",
       "        [0.00747397, 0.47078727, 0.98682947, 0.91708624, 0.10475671],\n",
       "        [0.79157835, 0.12805675, 0.6853947 , 0.74099541, 0.34832839]]),\n",
       " array([[0.06942526, 0.36009096, 0.93706913, 0.59018243, 0.70376876],\n",
       "        [0.42390061, 0.22248312, 0.40175622, 0.21115058, 0.10783918],\n",
       "        [0.28214323, 0.79322331, 0.90140673, 0.12067095, 0.70972765],\n",
       "        [0.50871787, 0.11939725, 0.4521195 , 0.12417022, 0.63224845],\n",
       "        [0.22259835, 0.52328835, 0.71074869, 0.8711084 , 0.40747163]])]"
      ]
     },
     "execution_count": 83,
     "metadata": {},
     "output_type": "execute_result"
    }
   ],
   "source": [
    "#HSPLIT \n",
    "\n",
    "np.hsplit(a1,2)\n",
    "\n",
    "#VSPLIT"
   ]
  },
  {
   "cell_type": "code",
   "execution_count": null,
   "id": "99012168",
   "metadata": {},
   "outputs": [],
   "source": []
  }
 ],
 "metadata": {
  "kernelspec": {
   "display_name": "Python 3",
   "language": "python",
   "name": "python3"
  },
  "language_info": {
   "codemirror_mode": {
    "name": "ipython",
    "version": 3
   },
   "file_extension": ".py",
   "mimetype": "text/x-python",
   "name": "python",
   "nbconvert_exporter": "python",
   "pygments_lexer": "ipython3",
   "version": "3.12.4"
  }
 },
 "nbformat": 4,
 "nbformat_minor": 5
}
