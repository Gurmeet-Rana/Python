{
 "cells": [
  {
   "cell_type": "code",
   "execution_count": 1,
   "id": "7ccca310",
   "metadata": {},
   "outputs": [],
   "source": [
    "#Name spaces - A namespace is a space that holds names(identifiers). Programmatically speaking , namespaces are dictionary of identifiers(keys) and their objects(values)\n",
    "# There are 4 types of namespaces :\n",
    "# BuiltIn Namespace\n",
    "# Gloabal Namespace\n",
    "# Enclosing Namespace\n",
    "# Local Namespace\n",
    "    \n"
   ]
  },
  {
   "cell_type": "code",
   "execution_count": 2,
   "id": "9a667160",
   "metadata": {},
   "outputs": [],
   "source": [
    "#Scope , LEGB Rule : local -> global -> builin   "
   ]
  },
  {
   "cell_type": "code",
   "execution_count": 3,
   "id": "313bcece",
   "metadata": {},
   "outputs": [],
   "source": [
    "# WE CAN ONLY VIEW GLOBAL VARIABLES BUT NOT WRITE OR MODIFY THEM but if you use : gloabal varname , then you can change "
   ]
  },
  {
   "cell_type": "code",
   "execution_count": 4,
   "id": "0fa80b81",
   "metadata": {},
   "outputs": [],
   "source": [
    "#builtin scope\n",
    "\n",
    "#renaming buitlins\n"
   ]
  },
  {
   "cell_type": "code",
   "execution_count": 5,
   "id": "120c41ea",
   "metadata": {},
   "outputs": [],
   "source": [
    "#enclosing scope - in nested behaviour "
   ]
  },
  {
   "cell_type": "code",
   "execution_count": null,
   "id": "b0454cd1",
   "metadata": {},
   "outputs": [],
   "source": [
    "#nonlocal keyword"
   ]
  }
 ],
 "metadata": {
  "kernelspec": {
   "display_name": "Python 3",
   "language": "python",
   "name": "python3"
  },
  "language_info": {
   "codemirror_mode": {
    "name": "ipython",
    "version": 3
   },
   "file_extension": ".py",
   "mimetype": "text/x-python",
   "name": "python",
   "nbconvert_exporter": "python",
   "pygments_lexer": "ipython3",
   "version": "3.12.4"
  }
 },
 "nbformat": 4,
 "nbformat_minor": 5
}
