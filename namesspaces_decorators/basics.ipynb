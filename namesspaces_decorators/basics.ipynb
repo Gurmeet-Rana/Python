{
 "cells": [
  {
   "cell_type": "code",
   "execution_count": 1,
   "id": "7ccca310",
   "metadata": {},
   "outputs": [],
   "source": [
    "#Name spaces - A namespace is a space that holds names(identifiers). Programmatically speaking , namespaces are dictionary of identifiers(keys) and their objects(values)\n",
    "# There are 4 types of namespaces :\n",
    "# BuiltIn Namespace\n",
    "# Gloabal Namespace\n",
    "# Enclosing Namespace\n",
    "# Local Namespace\n",
    "    \n"
   ]
  },
  {
   "cell_type": "code",
   "execution_count": 2,
   "id": "9a667160",
   "metadata": {},
   "outputs": [],
   "source": [
    "#Scope , LEGB Rule : local -> global -> builin   "
   ]
  },
  {
   "cell_type": "code",
   "execution_count": null,
   "id": "313bcece",
   "metadata": {},
   "outputs": [],
   "source": []
  }
 ],
 "metadata": {
  "kernelspec": {
   "display_name": "Python 3",
   "language": "python",
   "name": "python3"
  },
  "language_info": {
   "codemirror_mode": {
    "name": "ipython",
    "version": 3
   },
   "file_extension": ".py",
   "mimetype": "text/x-python",
   "name": "python",
   "nbconvert_exporter": "python",
   "pygments_lexer": "ipython3",
   "version": "3.12.4"
  }
 },
 "nbformat": 4,
 "nbformat_minor": 5
}
