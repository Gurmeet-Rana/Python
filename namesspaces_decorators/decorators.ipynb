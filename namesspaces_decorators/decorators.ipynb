{
 "cells": [
  {
   "cell_type": "code",
   "execution_count": 2,
   "id": "bfbc7872",
   "metadata": {},
   "outputs": [],
   "source": [
    "#Decorators - a func that receives another func as input and adds some functionality(decorations) to it and returns it  . This can only happen because in py func are 1st class citizens . These are of two types : \n",
    "#1. Built in decorators like @staticmethod,@classmethod,@abstractmethod and @property etc\n",
    "#2. User def decorators : that programmers can create acc to our needs.  "
   ]
  },
  {
   "cell_type": "code",
   "execution_count": null,
   "id": "6e719d5f",
   "metadata": {},
   "outputs": [
    {
     "ename": "SyntaxError",
     "evalue": "expected '(' (3958450443.py, line 7)",
     "output_type": "error",
     "traceback": [
      "\u001b[1;36m  Cell \u001b[1;32mIn[6], line 7\u001b[1;36m\u001b[0m\n\u001b[1;33m    def func # you can delete frunction\u001b[0m\n\u001b[1;37m             ^\u001b[0m\n\u001b[1;31mSyntaxError\u001b[0m\u001b[1;31m:\u001b[0m expected '('\n"
     ]
    }
   ],
   "source": [
    "#Py are 1st class funct\n",
    "def func():\n",
    "    print('Hello')\n",
    "a=func\n",
    "a() # one reason \n",
    "\n",
    " \n",
    "def func # you can delete frunction \n",
    "func() # will show err"
   ]
  },
  {
   "cell_type": "code",
   "execution_count": 8,
   "id": "26453f64",
   "metadata": {},
   "outputs": [
    {
     "data": {
      "text/plain": [
       "4"
      ]
     },
     "execution_count": 8,
     "metadata": {},
     "output_type": "execute_result"
    }
   ],
   "source": [
    "def modify(func,num):\n",
    "    return func(num)\n",
    "def square(num): return num**2\n",
    "modify(square,2)"
   ]
  },
  {
   "cell_type": "code",
   "execution_count": null,
   "id": "d8d8da55",
   "metadata": {},
   "outputs": [
    {
     "name": "stdout",
     "output_type": "stream",
     "text": [
      "*-----------\n",
      "Hello\n",
      "*0-----------\n"
     ]
    }
   ],
   "source": [
    "# example\n",
    "def my_decorator(func): # func here is called closure , because inner function can use parent's belonging even after parent destructoin\n",
    "    def wrapper():\n",
    "        print('*-----------')\n",
    "        func()\n",
    "        print('*0-----------')\n",
    "    return wrapper\n",
    "\"\"\" def hello(): print('Hello')\n",
    "s=my_decorator(hello)\n",
    "s() \"\"\"\n",
    "\n",
    "@my_decorator # need not to store just make and call \n",
    "def hello():\n",
    "    print('Hello')\n",
    "hello()"
   ]
  },
  {
   "cell_type": "code",
   "execution_count": null,
   "id": "3bef8aee",
   "metadata": {},
   "outputs": [],
   "source": []
  }
 ],
 "metadata": {
  "kernelspec": {
   "display_name": "Python 3",
   "language": "python",
   "name": "python3"
  },
  "language_info": {
   "codemirror_mode": {
    "name": "ipython",
    "version": 3
   },
   "file_extension": ".py",
   "mimetype": "text/x-python",
   "name": "python",
   "nbconvert_exporter": "python",
   "pygments_lexer": "ipython3",
   "version": "3.12.4"
  }
 },
 "nbformat": 4,
 "nbformat_minor": 5
}
