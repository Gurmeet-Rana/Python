{
 "cells": [
  {
   "cell_type": "code",
   "execution_count": null,
   "id": "bfbc7872",
   "metadata": {},
   "outputs": [],
   "source": [
    "#Decorators - a func that receives another func "
   ]
  }
 ],
 "metadata": {
  "language_info": {
   "name": "python"
  }
 },
 "nbformat": 4,
 "nbformat_minor": 5
}
