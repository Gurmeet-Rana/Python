{
 "cells": [
  {
   "cell_type": "code",
   "execution_count": 6,
   "id": "0a13b1dc",
   "metadata": {},
   "outputs": [],
   "source": [
    "#Tower of hanio\n",
    "def toh(n,A,B,C):\n",
    "    if n==0:\n",
    "        \n",
    "        return      \n",
    "    toh(n-1,A,C,B)\n",
    "    print(A,' -> ',C)\n",
    "    toh(n-1,B,A,C)"
   ]
  },
  {
   "cell_type": "code",
   "execution_count": 7,
   "id": "603c11bb",
   "metadata": {},
   "outputs": [
    {
     "name": "stdout",
     "output_type": "stream",
     "text": [
      "A  ->  C\n",
      "A  ->  B\n",
      "C  ->  B\n",
      "A  ->  C\n",
      "B  ->  A\n",
      "B  ->  C\n",
      "A  ->  C\n"
     ]
    }
   ],
   "source": [
    "toh(3,\"A\",\"B\",\"C\")"
   ]
  },
  {
   "cell_type": "code",
   "execution_count": null,
   "id": "81d393dc",
   "metadata": {},
   "outputs": [],
   "source": []
  }
 ],
 "metadata": {
  "kernelspec": {
   "display_name": "Python 3",
   "language": "python",
   "name": "python3"
  },
  "language_info": {
   "codemirror_mode": {
    "name": "ipython",
    "version": 3
   },
   "file_extension": ".py",
   "mimetype": "text/x-python",
   "name": "python",
   "nbconvert_exporter": "python",
   "pygments_lexer": "ipython3",
   "version": "3.12.4"
  }
 },
 "nbformat": 4,
 "nbformat_minor": 5
}
