{
 "cells": [
  {
   "cell_type": "code",
   "execution_count": null,
   "id": "9ea947cc",
   "metadata": {},
   "outputs": [
    {
     "name": "stdout",
     "output_type": "stream",
     "text": [
      "Names of our bicycles is Atlas\n",
      "Names of our bicycles is Ranzar\n",
      "Names of our bicycles is Modern\n"
     ]
    }
   ],
   "source": [
    "names=[\"Atlas\",\"Ranzar\",\"Modern\"]\n",
    "for i in range(len(names)):\n",
    "    print(f\"Names of our bicycles is {names[i]}\")"
   ]
  },
  {
   "cell_type": "code",
   "execution_count": 4,
   "id": "10d358af",
   "metadata": {},
   "outputs": [],
   "source": [
    "names.append(\"Cycle\")"
   ]
  },
  {
   "cell_type": "code",
   "execution_count": 5,
   "id": "51b308c7",
   "metadata": {},
   "outputs": [
    {
     "data": {
      "text/plain": [
       "['Atlas', 'Ranzar', 'Modern', 'Cycle']"
      ]
     },
     "execution_count": 5,
     "metadata": {},
     "output_type": "execute_result"
    }
   ],
   "source": [
    "names"
   ]
  },
  {
   "cell_type": "code",
   "execution_count": 6,
   "id": "894ccca9",
   "metadata": {},
   "outputs": [],
   "source": [
    "names.insert(1,\"Special cycle\")"
   ]
  },
  {
   "cell_type": "code",
   "execution_count": 7,
   "id": "746c5a18",
   "metadata": {},
   "outputs": [
    {
     "data": {
      "text/plain": [
       "['Atlas', 'Special cycle', 'Ranzar', 'Modern', 'Cycle']"
      ]
     },
     "execution_count": 7,
     "metadata": {},
     "output_type": "execute_result"
    }
   ],
   "source": [
    "names"
   ]
  },
  {
   "cell_type": "code",
   "execution_count": 8,
   "id": "24482580",
   "metadata": {},
   "outputs": [],
   "source": [
    "del names[0]\n"
   ]
  },
  {
   "cell_type": "code",
   "execution_count": 9,
   "id": "1f2405ae",
   "metadata": {},
   "outputs": [
    {
     "data": {
      "text/plain": [
       "['Special cycle', 'Ranzar', 'Modern', 'Cycle']"
      ]
     },
     "execution_count": 9,
     "metadata": {},
     "output_type": "execute_result"
    }
   ],
   "source": [
    "names"
   ]
  },
  {
   "cell_type": "code",
   "execution_count": 10,
   "id": "8a729326",
   "metadata": {},
   "outputs": [
    {
     "data": {
      "text/plain": [
       "'Cycle'"
      ]
     },
     "execution_count": 10,
     "metadata": {},
     "output_type": "execute_result"
    }
   ],
   "source": [
    "names.pop()"
   ]
  },
  {
   "cell_type": "code",
   "execution_count": 11,
   "id": "dc34aef1",
   "metadata": {},
   "outputs": [
    {
     "data": {
      "text/plain": [
       "['Special cycle', 'Ranzar', 'Modern']"
      ]
     },
     "execution_count": 11,
     "metadata": {},
     "output_type": "execute_result"
    }
   ],
   "source": [
    "names"
   ]
  },
  {
   "cell_type": "code",
   "execution_count": 12,
   "id": "26dbc09a",
   "metadata": {},
   "outputs": [
    {
     "data": {
      "text/plain": [
       "'Modern'"
      ]
     },
     "execution_count": 12,
     "metadata": {},
     "output_type": "execute_result"
    }
   ],
   "source": [
    "names.pop(2)"
   ]
  },
  {
   "cell_type": "code",
   "execution_count": 13,
   "id": "58167a01",
   "metadata": {},
   "outputs": [
    {
     "data": {
      "text/plain": [
       "['Special cycle', 'Ranzar']"
      ]
     },
     "execution_count": 13,
     "metadata": {},
     "output_type": "execute_result"
    }
   ],
   "source": [
    "names "
   ]
  },
  {
   "cell_type": "code",
   "execution_count": null,
   "id": "af1c532b",
   "metadata": {},
   "outputs": [],
   "source": [
    " "
   ]
  }
 ],
 "metadata": {
  "kernelspec": {
   "display_name": "Python 3",
   "language": "python",
   "name": "python3"
  },
  "language_info": {
   "codemirror_mode": {
    "name": "ipython",
    "version": 3
   },
   "file_extension": ".py",
   "mimetype": "text/x-python",
   "name": "python",
   "nbconvert_exporter": "python",
   "pygments_lexer": "ipython3",
   "version": "3.12.4"
  }
 },
 "nbformat": 4,
 "nbformat_minor": 5
}
