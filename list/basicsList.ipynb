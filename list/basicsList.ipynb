{
 "cells": [
  {
   "cell_type": "markdown",
   "id": "5357e0a3",
   "metadata": {},
   "source": [
    "->LIST is a collection of items in a particular order . \n",
    "-> Formed by enclosing csv in [] or use list(items)\n",
    "-> Access : Index\n",
    "-> Update : by index  , list[0]=X\n",
    "-> Add : a. list.append( ele )          \n",
    "         c. list.insert(index,ele)\n",
    "-> Remove : a. list.pop() - remove and return \n",
    "            b. del list[index] \n",
    "            c. list.pop(index)\n",
    "            d. list.remove(element)\n",
    "-> list.sort() - SORT IN ASC , For DESC use list.sort(reverse=True)\n",
    "-> To preserve the original order but just present in sorted order use : sorted(list)\n",
    "-> list.reverse()\n",
    "-> len(list)\n",
    "-> index Error \n",
    "-> loop : for ele in list : \n",
    "                print(ele)\n",
    "NUMERICAL LIST : \n",
    "    -> Formed using : a. numbers=list(range(start,end+1,jump))\n",
    "LIST COMPREHENSIONS : \n",
    "    -> Allows us to generate / create list in just a line of code \n",
    "    -> It combines for loop and creation of new element in one line automatically appends each new element \n",
    "SLICING : \n",
    "    -> list[start,end+1]\n",
    "COPY LIST : \n",
    "    -> copied=org[:]\n",
    "EMPTY : if len(list)==0 or if(list):\n",
    "\n",
    "\n",
    "\n",
    "\n",
    "\n"
   ]
  },
  {
   "cell_type": "code",
   "execution_count": 1,
   "id": "9ea947cc",
   "metadata": {},
   "outputs": [
    {
     "name": "stdout",
     "output_type": "stream",
     "text": [
      "Names of our bicycles is Atlas\n",
      "Names of our bicycles is Ranzar\n",
      "Names of our bicycles is Modern\n"
     ]
    }
   ],
   "source": [
    "names=[\"Atlas\",\"Ranzar\",\"Modern\"]\n",
    "for i in range(len(names)):\n",
    "    print(f\"Names of our bicycles is {names[i]}\")"
   ]
  },
  {
   "cell_type": "code",
   "execution_count": 2,
   "id": "10d358af",
   "metadata": {},
   "outputs": [],
   "source": [
    "names.append(\"Cycle\")"
   ]
  },
  {
   "cell_type": "code",
   "execution_count": 3,
   "id": "51b308c7",
   "metadata": {},
   "outputs": [
    {
     "data": {
      "text/plain": [
       "['Atlas', 'Ranzar', 'Modern', 'Cycle']"
      ]
     },
     "execution_count": 3,
     "metadata": {},
     "output_type": "execute_result"
    }
   ],
   "source": [
    "names"
   ]
  },
  {
   "cell_type": "code",
   "execution_count": 4,
   "id": "894ccca9",
   "metadata": {},
   "outputs": [],
   "source": [
    "names.insert(1,\"Special cycle\")"
   ]
  },
  {
   "cell_type": "code",
   "execution_count": 5,
   "id": "746c5a18",
   "metadata": {},
   "outputs": [
    {
     "data": {
      "text/plain": [
       "['Atlas', 'Special cycle', 'Ranzar', 'Modern', 'Cycle']"
      ]
     },
     "execution_count": 5,
     "metadata": {},
     "output_type": "execute_result"
    }
   ],
   "source": [
    "names"
   ]
  },
  {
   "cell_type": "code",
   "execution_count": 6,
   "id": "24482580",
   "metadata": {},
   "outputs": [],
   "source": [
    "del names[0]\n"
   ]
  },
  {
   "cell_type": "code",
   "execution_count": 7,
   "id": "1f2405ae",
   "metadata": {},
   "outputs": [
    {
     "data": {
      "text/plain": [
       "['Special cycle', 'Ranzar', 'Modern', 'Cycle']"
      ]
     },
     "execution_count": 7,
     "metadata": {},
     "output_type": "execute_result"
    }
   ],
   "source": [
    "names"
   ]
  },
  {
   "cell_type": "code",
   "execution_count": 8,
   "id": "8a729326",
   "metadata": {},
   "outputs": [
    {
     "data": {
      "text/plain": [
       "'Cycle'"
      ]
     },
     "execution_count": 8,
     "metadata": {},
     "output_type": "execute_result"
    }
   ],
   "source": [
    "names.pop()"
   ]
  },
  {
   "cell_type": "code",
   "execution_count": 9,
   "id": "dc34aef1",
   "metadata": {},
   "outputs": [
    {
     "data": {
      "text/plain": [
       "['Special cycle', 'Ranzar', 'Modern']"
      ]
     },
     "execution_count": 9,
     "metadata": {},
     "output_type": "execute_result"
    }
   ],
   "source": [
    "names"
   ]
  },
  {
   "cell_type": "code",
   "execution_count": 10,
   "id": "26dbc09a",
   "metadata": {},
   "outputs": [
    {
     "data": {
      "text/plain": [
       "'Modern'"
      ]
     },
     "execution_count": 10,
     "metadata": {},
     "output_type": "execute_result"
    }
   ],
   "source": [
    "names.pop(2)"
   ]
  },
  {
   "cell_type": "code",
   "execution_count": 11,
   "id": "58167a01",
   "metadata": {},
   "outputs": [
    {
     "data": {
      "text/plain": [
       "['Special cycle', 'Ranzar']"
      ]
     },
     "execution_count": 11,
     "metadata": {},
     "output_type": "execute_result"
    }
   ],
   "source": [
    "names "
   ]
  },
  {
   "cell_type": "code",
   "execution_count": 12,
   "id": "af1c532b",
   "metadata": {},
   "outputs": [],
   "source": [
    "names.remove('Ranzar')"
   ]
  },
  {
   "cell_type": "code",
   "execution_count": 13,
   "id": "21509c30",
   "metadata": {},
   "outputs": [
    {
     "data": {
      "text/plain": [
       "['Special cycle']"
      ]
     },
     "execution_count": 13,
     "metadata": {},
     "output_type": "execute_result"
    }
   ],
   "source": [
    "names"
   ]
  },
  {
   "cell_type": "code",
   "execution_count": 18,
   "id": "a094950d",
   "metadata": {},
   "outputs": [],
   "source": [
    "n=int(input(\"Enter the number of new names : \"))\n",
    "for i in range (1,n):\n",
    "    ele=input(f\"Enter the element at index {i} \")\n",
    "    names.insert(i,ele)"
   ]
  },
  {
   "cell_type": "markdown",
   "id": "006a287b",
   "metadata": {},
   "source": [
    "for name in names : \n",
    "    print(name)"
   ]
  },
  {
   "cell_type": "code",
   "execution_count": 19,
   "id": "104a94d5",
   "metadata": {},
   "outputs": [
    {
     "data": {
      "text/plain": [
       "['Special cycle', 'Kajal', 'Gurmeet', 'Jarnail', 'Monika']"
      ]
     },
     "execution_count": 19,
     "metadata": {},
     "output_type": "execute_result"
    }
   ],
   "source": [
    "names"
   ]
  },
  {
   "cell_type": "code",
   "execution_count": 21,
   "id": "0e81f5ec",
   "metadata": {},
   "outputs": [
    {
     "data": {
      "text/plain": [
       "['Special cycle', 'Monika', 'Kajal', 'Jarnail', 'Gurmeet']"
      ]
     },
     "execution_count": 21,
     "metadata": {},
     "output_type": "execute_result"
    }
   ],
   "source": [
    "sorted(names,reverse=True)"
   ]
  },
  {
   "cell_type": "code",
   "execution_count": 22,
   "id": "1ba14760",
   "metadata": {},
   "outputs": [
    {
     "name": "stdout",
     "output_type": "stream",
     "text": [
      "Special cycle\n",
      "Kajal\n",
      "Gurmeet\n",
      "Jarnail\n",
      "Monika\n"
     ]
    }
   ],
   "source": [
    "for name in names: \n",
    "    print(name)"
   ]
  },
  {
   "cell_type": "code",
   "execution_count": 23,
   "id": "c72ec542",
   "metadata": {},
   "outputs": [
    {
     "data": {
      "text/plain": [
       "[1, 4, 9, 16]"
      ]
     },
     "execution_count": 23,
     "metadata": {},
     "output_type": "execute_result"
    }
   ],
   "source": [
    "squares=[]\n",
    "for value in range(1,5):\n",
    "    squares.append(value**2)\n",
    "\n",
    "squares\n"
   ]
  },
  {
   "cell_type": "code",
   "execution_count": 26,
   "id": "821289a7",
   "metadata": {},
   "outputs": [
    {
     "name": "stdout",
     "output_type": "stream",
     "text": [
      "1\n",
      "\n",
      "\n",
      "16\n",
      "\n",
      "\n",
      "30\n"
     ]
    }
   ],
   "source": [
    "print(min(squares))\n",
    "print('\\n')\n",
    "print(max(squares))\n",
    "print('\\n')\n",
    "print(sum(squares))"
   ]
  },
  {
   "cell_type": "code",
   "execution_count": 29,
   "id": "8405e847",
   "metadata": {},
   "outputs": [],
   "source": [
    "square=[value**2 for value in range(1,5)]\n"
   ]
  },
  {
   "cell_type": "code",
   "execution_count": 30,
   "id": "11ae2065",
   "metadata": {},
   "outputs": [
    {
     "data": {
      "text/plain": [
       "[1, 4, 9, 16]"
      ]
     },
     "execution_count": 30,
     "metadata": {},
     "output_type": "execute_result"
    }
   ],
   "source": [
    "square"
   ]
  },
  {
   "cell_type": "code",
   "execution_count": 32,
   "id": "125e3f76",
   "metadata": {},
   "outputs": [
    {
     "name": "stdout",
     "output_type": "stream",
     "text": [
      "1\n",
      "2\n",
      "3\n",
      "4\n",
      "5\n",
      "6\n",
      "7\n",
      "8\n",
      "9\n",
      "10\n",
      "11\n",
      "12\n",
      "13\n",
      "14\n",
      "15\n",
      "16\n",
      "17\n",
      "18\n",
      "19\n",
      "20\n"
     ]
    }
   ],
   "source": [
    "for number in range(1,21): \n",
    "    print(number )"
   ]
  },
  {
   "cell_type": "code",
   "execution_count": 34,
   "id": "14e8ee0d",
   "metadata": {},
   "outputs": [
    {
     "name": "stdout",
     "output_type": "stream",
     "text": [
      "Sum upto million is : 25000000\n"
     ]
    }
   ],
   "source": [
    "sum=0\n",
    "for i in range(1,10000,2):\n",
    "    sum+=i\n",
    "print(f\"Sum upto million is : {sum}\")"
   ]
  },
  {
   "cell_type": "code",
   "execution_count": 35,
   "id": "0aa740b8",
   "metadata": {},
   "outputs": [],
   "source": [
    "names=[\"a ,\"]"
   ]
  },
  {
   "cell_type": "code",
   "execution_count": 2,
   "id": "7b81806b",
   "metadata": {},
   "outputs": [],
   "source": [
    "li=[1,2,3,-10]\n",
    "li.sort()"
   ]
  },
  {
   "cell_type": "code",
   "execution_count": 3,
   "id": "74bc5efc",
   "metadata": {},
   "outputs": [
    {
     "name": "stdout",
     "output_type": "stream",
     "text": [
      "[-10, 1, 2, 3]\n"
     ]
    }
   ],
   "source": [
    "print(li)"
   ]
  },
  {
   "cell_type": "code",
   "execution_count": 12,
   "id": "ee38577b",
   "metadata": {},
   "outputs": [
    {
     "data": {
      "text/plain": [
       "(-10, 3, 4, 1)"
      ]
     },
     "execution_count": 12,
     "metadata": {},
     "output_type": "execute_result"
    }
   ],
   "source": [
    "min(li) , max(li) , len(li) , li.count(3)"
   ]
  },
  {
   "cell_type": "code",
   "execution_count": 15,
   "id": "66efa117",
   "metadata": {},
   "outputs": [
    {
     "data": {
      "text/plain": [
       "3"
      ]
     },
     "execution_count": 15,
     "metadata": {},
     "output_type": "execute_result"
    }
   ],
   "source": [
    "li.index(3) "
   ]
  },
  {
   "cell_type": "code",
   "execution_count": 16,
   "id": "9d4d7b5e",
   "metadata": {},
   "outputs": [],
   "source": [
    "li.reverse()"
   ]
  },
  {
   "cell_type": "code",
   "execution_count": 17,
   "id": "da1a866a",
   "metadata": {},
   "outputs": [
    {
     "data": {
      "text/plain": [
       "[3, 2, 1, -10]"
      ]
     },
     "execution_count": 17,
     "metadata": {},
     "output_type": "execute_result"
    }
   ],
   "source": [
    "li"
   ]
  },
  {
   "cell_type": "code",
   "execution_count": 20,
   "id": "d04caf40",
   "metadata": {},
   "outputs": [
    {
     "name": "stdout",
     "output_type": "stream",
     "text": [
      "[2, 1, 5, 7, 0]\n",
      "1534209825088\n",
      "[2, 1, 5, 7, 0]\n",
      "1534209826816\n"
     ]
    }
   ],
   "source": [
    " #copy \n",
    "L=[2,1,5,7,0]\n",
    "print(L)\n",
    "print(id(L))\n",
    "L1=L.copy()\n",
    "print(L1)\n",
    "print(id(L1))\n",
    "\n"
   ]
  },
  {
   "cell_type": "code",
   "execution_count": 26,
   "id": "3bdaceb7",
   "metadata": {},
   "outputs": [
    {
     "data": {
      "text/plain": [
       "[100, 101, 102, 103, 104, 105, 106, 107, 108, 109, 110]"
      ]
     },
     "execution_count": 26,
     "metadata": {},
     "output_type": "execute_result"
    }
   ],
   "source": [
    "#LIST COMPREHENSION \n",
    "# newlist=[expression for item in iterable if condition==True]\n",
    "l=[i for i in range(100,111)]\n",
    "l\n"
   ]
  },
  {
   "cell_type": "code",
   "execution_count": 31,
   "id": "cba5d324",
   "metadata": {},
   "outputs": [
    {
     "data": {
      "text/plain": [
       "[5, 10, 15, 20, 25, 30, 35, 40, 45, 50]"
      ]
     },
     "execution_count": 31,
     "metadata": {},
     "output_type": "execute_result"
    }
   ],
   "source": [
    "[i for i in range(1,51) if i%5==0] "
   ]
  },
  {
   "cell_type": "code",
   "execution_count": 32,
   "id": "d33914ed",
   "metadata": {},
   "outputs": [
    {
     "data": {
      "text/plain": [
       "['python']"
      ]
     },
     "execution_count": 32,
     "metadata": {},
     "output_type": "execute_result"
    }
   ],
   "source": [
    "languages=['java','python','c#']\n",
    "[language for language in languages if language.startswith('p')]"
   ]
  },
  {
   "cell_type": "code",
   "execution_count": 35,
   "id": "71e51a76",
   "metadata": {},
   "outputs": [
    {
     "data": {
      "text/plain": [
       "['apple']"
      ]
     },
     "execution_count": 35,
     "metadata": {},
     "output_type": "execute_result"
    }
   ],
   "source": [
    "basket=['apple','banana','guava','cherry']\n",
    "my_fruits=['apple','kiwi','grapes','banana']\n",
    "#add new list from my_fruits and items if the fruit exists in basket and also starts with 'a'\n",
    "[fruit for fruit in my_fruits if fruit in basket and fruit.startswith('a')] "
   ]
  },
  {
   "cell_type": "code",
   "execution_count": 36,
   "id": "5aeecf63",
   "metadata": {},
   "outputs": [
    {
     "data": {
      "text/plain": [
       "[[0, 0], [0, 1], [0, 2], [0, 3], [0, 4]]"
      ]
     },
     "execution_count": 36,
     "metadata": {},
     "output_type": "execute_result"
    }
   ],
   "source": [
    "# print 3*3 list\n",
    "[[i*j for i in range(2) ] for j in range(5)]"
   ]
  },
  {
   "cell_type": "code",
   "execution_count": null,
   "id": "11ee7f0e",
   "metadata": {},
   "outputs": [],
   "source": []
  }
 ],
 "metadata": {
  "kernelspec": {
   "display_name": "Python 3",
   "language": "python",
   "name": "python3"
  },
  "language_info": {
   "codemirror_mode": {
    "name": "ipython",
    "version": 3
   },
   "file_extension": ".py",
   "mimetype": "text/x-python",
   "name": "python",
   "nbconvert_exporter": "python",
   "pygments_lexer": "ipython3",
   "version": "3.12.4"
  }
 },
 "nbformat": 4,
 "nbformat_minor": 5
}
