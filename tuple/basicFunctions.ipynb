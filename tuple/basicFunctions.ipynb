{
 "cells": [
  {
   "cell_type": "markdown",
   "id": "b0038f45",
   "metadata": {},
   "source": [
    "TUPLE - IMMUTABLE \n",
    "-> ()\n",
    "-> singleton tuple - (1,) \n",
    "->"
   ]
  },
  {
   "cell_type": "code",
   "execution_count": 1,
   "id": "27a35e3d",
   "metadata": {},
   "outputs": [
    {
     "name": "stdout",
     "output_type": "stream",
     "text": [
      "1\n"
     ]
    }
   ],
   "source": [
    "tple=(1,2,3)\n",
    "print(tple[0])"
   ]
  },
  {
   "cell_type": "code",
   "execution_count": null,
   "id": "6c8ef542",
   "metadata": {},
   "outputs": [],
   "source": []
  }
 ],
 "metadata": {
  "kernelspec": {
   "display_name": "Python 3",
   "language": "python",
   "name": "python3"
  },
  "language_info": {
   "codemirror_mode": {
    "name": "ipython",
    "version": 3
   },
   "file_extension": ".py",
   "mimetype": "text/x-python",
   "name": "python",
   "nbconvert_exporter": "python",
   "pygments_lexer": "ipython3",
   "version": "3.12.4"
  }
 },
 "nbformat": 4,
 "nbformat_minor": 5
}
