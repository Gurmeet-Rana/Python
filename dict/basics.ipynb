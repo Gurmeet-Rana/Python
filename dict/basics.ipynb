{
 "cells": [
  {
   "cell_type": "markdown",
   "id": "8b454f8f",
   "metadata": {},
   "source": [
    "-> dict={\"key\":\"value\",} , IT IS A COLLECTION OF KEY VALUE PAIRS .\n",
    "-> key uniq\n",
    "-> Access : dict[key] or dist.get(key,message)\n",
    "-> ADD : dict[key]=value\n",
    "-> UPDATE : DICT[KEY]=VALUE\n",
    "-> DELETE : del dict[key]\n",
    "->  access list of keys  : d.keys()\n",
    "->  access list of values  : d.values()"
   ]
  },
  {
   "cell_type": "code",
   "execution_count": 2,
   "id": "3276159c",
   "metadata": {},
   "outputs": [
    {
     "name": "stdout",
     "output_type": "stream",
     "text": [
      "LUCKNOW\n"
     ]
    }
   ],
   "source": [
    "d={\"UP\":\"LUCKNOW\",\"UK\":\"DDN\"}\n",
    "print(d[\"UP\"])"
   ]
  },
  {
   "cell_type": "code",
   "execution_count": 3,
   "id": "b7793253",
   "metadata": {},
   "outputs": [
    {
     "name": "stdout",
     "output_type": "stream",
     "text": [
      "\n",
      "Key : U\n",
      "\n",
      "Value : P\n",
      "\n",
      "Key : U\n",
      "\n",
      "Value : K\n"
     ]
    }
   ],
   "source": [
    "for key,value in d:\n",
    "    print(f\"\\nKey : {key}\")\n",
    "    print(f\"\\nValue : {value}\")"
   ]
  },
  {
   "cell_type": "code",
   "execution_count": null,
   "id": "c4709e12",
   "metadata": {},
   "outputs": [],
   "source": []
  }
 ],
 "metadata": {
  "kernelspec": {
   "display_name": "Python 3",
   "language": "python",
   "name": "python3"
  },
  "language_info": {
   "codemirror_mode": {
    "name": "ipython",
    "version": 3
   },
   "file_extension": ".py",
   "mimetype": "text/x-python",
   "name": "python",
   "nbconvert_exporter": "python",
   "pygments_lexer": "ipython3",
   "version": "3.12.4"
  }
 },
 "nbformat": 4,
 "nbformat_minor": 5
}
